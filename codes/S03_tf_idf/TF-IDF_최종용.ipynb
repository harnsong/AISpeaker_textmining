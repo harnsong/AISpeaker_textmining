{
 "cells": [
  {
   "cell_type": "markdown",
   "metadata": {},
   "source": [
    "# TF-IDF 구하기\n",
    "- 벡터화하기 전에 데이터 전처리\n",
    "   - document별 형태소 분석\n",
    "   - 미등록단어 처리\n",
    "   - 명사만 추출\n",
    "   - 불용어(stopwords) 처리\n",
    "- document별 단어로 tokenize되어 있는 것을 다시 합쳐서 각각 하나의 document로 만들기\n",
    "- 벡터화(vectorize) 하기\n",
    "- tf-idf 값 구하기"
   ]
  },
  {
   "cell_type": "code",
   "execution_count": 63,
   "metadata": {
    "collapsed": true
   },
   "outputs": [],
   "source": [
    "import pandas as pd"
   ]
  },
  {
   "cell_type": "code",
   "execution_count": 211,
   "metadata": {
    "collapsed": true
   },
   "outputs": [],
   "source": [
    "# CSV 데이터 불러오기\n",
    "clova_df = pd.read_csv(\"../../data/sentiment/sentiment_clova_new.csv\", index_col=0)\n",
    "kakao_df = pd.read_csv(\"../../data/sentiment/sentiment_kakao_new.csv\", index_col=0)\n",
    "geni_df = pd.read_csv(\"../../data/sentiment/sentiment_gigagenie_new.csv\", index_col=0)\n",
    "nugu_df = pd.read_csv(\"../../data/sentiment/sentiment_nugu_new.csv\", index_col=0)"
   ]
  },
  {
   "cell_type": "code",
   "execution_count": 231,
   "metadata": {},
   "outputs": [
    {
     "data": {
      "text/plain": [
       "'https://news.naver.com/main/read.nhn?mode=LSD&mid=sec&sid1=105&oid=277&aid=0003818204'"
      ]
     },
     "execution_count": 231,
     "metadata": {},
     "output_type": "execute_result"
    }
   ],
   "source": [
    "nugu_df.url[0]"
   ]
  },
  {
   "cell_type": "code",
   "execution_count": 261,
   "metadata": {
    "collapsed": true
   },
   "outputs": [],
   "source": [
    "temp = nugu_df"
   ]
  },
  {
   "cell_type": "code",
   "execution_count": 264,
   "metadata": {},
   "outputs": [],
   "source": [
    "t = temp[temp.url.notnull()].url.str.contains('ppang7942')\n",
    "del_index = temp[temp.url.notnull()][t].index"
   ]
  },
  {
   "cell_type": "code",
   "execution_count": 266,
   "metadata": {},
   "outputs": [
    {
     "name": "stdout",
     "output_type": "stream",
     "text": [
      "10174\n",
      "10131\n"
     ]
    }
   ],
   "source": [
    "print(len(nugu_df))\n",
    "print(len(nugu_df.drop(del_index)))"
   ]
  },
  {
   "cell_type": "code",
   "execution_count": 267,
   "metadata": {
    "collapsed": true
   },
   "outputs": [],
   "source": [
    "nugu_df.drop(del_index, inplace=True)"
   ]
  },
  {
   "cell_type": "code",
   "execution_count": 268,
   "metadata": {},
   "outputs": [],
   "source": [
    "# 데이터 합치기\n",
    "# 긍정 document\n",
    "pos_c_text = clova_df.positive_text[clova_df.positive_text.notnull()]\n",
    "pos_k_text = kakao_df.positive_text[kakao_df.positive_text.notnull()]\n",
    "pos_g_text = geni_df.positive_text[geni_df.positive_text.notnull()]\n",
    "pos_n_text = nugu_df.positive_text[nugu_df.positive_text.notnull()]\n",
    "\n",
    "positive_text = [pos_c_text, pos_k_text, pos_g_text, pos_n_text]"
   ]
  },
  {
   "cell_type": "code",
   "execution_count": 269,
   "metadata": {},
   "outputs": [],
   "source": [
    "# 데이터 합치기\n",
    "# 부정 document\n",
    "neg_c_text = clova_df.negative_text[clova_df.negative_text.notnull()]\n",
    "neg_k_text = kakao_df.negative_text[kakao_df.negative_text.notnull()]\n",
    "neg_g_text = geni_df.negative_text[geni_df.negative_text.notnull()]\n",
    "neg_n_text = nugu_df.negative_text[nugu_df.negative_text.notnull()]\n",
    "\n",
    "negative_text = [neg_c_text, neg_k_text, neg_g_text, neg_n_text]"
   ]
  },
  {
   "cell_type": "code",
   "execution_count": 270,
   "metadata": {},
   "outputs": [
    {
     "data": {
      "text/plain": [
       "(4, 4)"
      ]
     },
     "execution_count": 270,
     "metadata": {},
     "output_type": "execute_result"
    }
   ],
   "source": [
    "len(positive_text), len(negative_text)"
   ]
  },
  {
   "cell_type": "markdown",
   "metadata": {},
   "source": [
    "# <br>\n",
    "## 긍정 document"
   ]
  },
  {
   "cell_type": "markdown",
   "metadata": {},
   "source": [
    "<br/><br/>\n",
    "### POS tagging하기"
   ]
  },
  {
   "cell_type": "markdown",
   "metadata": {},
   "source": [
    "#### 1.  Komoran 사용"
   ]
  },
  {
   "cell_type": "code",
   "execution_count": 272,
   "metadata": {},
   "outputs": [
    {
     "data": {
      "text/plain": [
       "[('네콘', 'NNG')]"
      ]
     },
     "execution_count": 272,
     "metadata": {},
     "output_type": "execute_result"
    }
   ],
   "source": [
    "komoran.pos(\"네콘\")"
   ]
  },
  {
   "cell_type": "code",
   "execution_count": 273,
   "metadata": {},
   "outputs": [
    {
     "data": {
      "text/plain": [
       "[('척수', 'NNP'), ('장애인', 'NNP')]"
      ]
     },
     "execution_count": 273,
     "metadata": {},
     "output_type": "execute_result"
    }
   ],
   "source": [
    "komoran.pos(\"척수 장애인\") "
   ]
  },
  {
   "cell_type": "code",
   "execution_count": 274,
   "metadata": {},
   "outputs": [
    {
     "data": {
      "text/plain": [
       "[('가스잠그미', 'NNG')]"
      ]
     },
     "execution_count": 274,
     "metadata": {},
     "output_type": "execute_result"
    }
   ],
   "source": [
    "komoran.pos(\"가스잠그미\") "
   ]
  },
  {
   "cell_type": "code",
   "execution_count": 275,
   "metadata": {},
   "outputs": [
    {
     "data": {
      "text/plain": [
       "[('삼행시', 'NNG')]"
      ]
     },
     "execution_count": 275,
     "metadata": {},
     "output_type": "execute_result"
    }
   ],
   "source": [
    "komoran.pos(\"삼행시\") "
   ]
  },
  {
   "cell_type": "code",
   "execution_count": 276,
   "metadata": {},
   "outputs": [
    {
     "data": {
      "text/plain": [
       "[('교동제비집', 'NNG')]"
      ]
     },
     "execution_count": 276,
     "metadata": {},
     "output_type": "execute_result"
    }
   ],
   "source": [
    "komoran.pos(\"교동제비집\")"
   ]
  },
  {
   "cell_type": "code",
   "execution_count": 277,
   "metadata": {},
   "outputs": [
    {
     "data": {
      "text/plain": [
       "[('교동', 'NNP'), ('스튜디오', 'NNP')]"
      ]
     },
     "execution_count": 277,
     "metadata": {},
     "output_type": "execute_result"
    }
   ],
   "source": [
    "komoran.pos(\"교동스튜디오\")"
   ]
  },
  {
   "cell_type": "code",
   "execution_count": 278,
   "metadata": {},
   "outputs": [
    {
     "data": {
      "text/plain": [
       "[('올레tv스카이라이프', 'NNG')]"
      ]
     },
     "execution_count": 278,
     "metadata": {},
     "output_type": "execute_result"
    }
   ],
   "source": [
    "komoran.pos(\"올레tv스카이라이프\")"
   ]
  },
  {
   "cell_type": "code",
   "execution_count": 279,
   "metadata": {
    "collapsed": true
   },
   "outputs": [],
   "source": [
    "from konlpy.tag import Komoran"
   ]
  },
  {
   "cell_type": "code",
   "execution_count": 311,
   "metadata": {
    "collapsed": true
   },
   "outputs": [],
   "source": [
    "komoran = Komoran(userdic='./unregistered.txt')"
   ]
  },
  {
   "cell_type": "code",
   "execution_count": 312,
   "metadata": {
    "collapsed": true
   },
   "outputs": [],
   "source": [
    "import re\n",
    "\n",
    "# 명사와 외래어만 뽑아내기위한 정규표현식\n",
    "p = re.compile('NN.*|SL')"
   ]
  },
  {
   "cell_type": "markdown",
   "metadata": {},
   "source": [
    "results = []\n",
    "for i, brand_text in enumerate(positive_text):\n",
    "    pos_tagging_list = list(map(komoran.pos, brand_text))\n",
    "    print(\"pos tagging -\", i)\n",
    "    \n",
    "    docs = []\n",
    "    for doc in pos_tagging_list:\n",
    "        want_words = []\n",
    "        for word, pos in doc:\n",
    "            if p.match(pos):\n",
    "                want_words.append(word)\n",
    "        docs.append(want_words)\n",
    "    print(\"noun extract -\", i)\n",
    "    \n",
    "    results.append(sum(docs, []))\n",
    "    print(\"finish -\", i)"
   ]
  },
  {
   "cell_type": "code",
   "execution_count": 313,
   "metadata": {},
   "outputs": [
    {
     "name": "stdout",
     "output_type": "stream",
     "text": [
      "pos tagging - 0\n",
      "noun extract - 0\n",
      "finish - 0\n",
      "pos tagging - 1\n",
      "noun extract - 1\n",
      "finish - 1\n",
      "pos tagging - 2\n",
      "noun extract - 2\n",
      "finish - 2\n",
      "pos tagging - 3\n",
      "noun extract - 3\n",
      "finish - 3\n"
     ]
    }
   ],
   "source": [
    "results = []\n",
    "for i, brand_text in enumerate(positive_text):\n",
    "    pos_tagging_list = list(map(komoran.pos, brand_text))\n",
    "    print(\"pos tagging -\", i)\n",
    "\n",
    "    docs = []\n",
    "    for doc in pos_tagging_list:\n",
    "        want_words = [word for word, pos in doc if p.match(pos)]         \n",
    "        docs.append(want_words)\n",
    "    print(\"noun extract -\", i)\n",
    "    \n",
    "    results.append(sum(docs, []))\n",
    "    print(\"finish -\", i)"
   ]
  },
  {
   "cell_type": "markdown",
   "metadata": {},
   "source": [
    "### pickle로 일단 저장"
   ]
  },
  {
   "cell_type": "code",
   "execution_count": 314,
   "metadata": {
    "collapsed": true
   },
   "outputs": [],
   "source": [
    "import pickle\n",
    "pickle.dump(results, open('tfidf_pos_list4.pickle', \"wb\"))"
   ]
  },
  {
   "cell_type": "code",
   "execution_count": 315,
   "metadata": {},
   "outputs": [],
   "source": [
    "load_result = pickle.load(open('tfidf_pos_list4.pickle', \"rb\"))\n",
    "results = load_result"
   ]
  },
  {
   "cell_type": "markdown",
   "metadata": {},
   "source": [
    "<br/><br/>\n",
    "### stopword 제거"
   ]
  },
  {
   "cell_type": "code",
   "execution_count": 285,
   "metadata": {},
   "outputs": [
    {
     "data": {
      "text/plain": [
       "True"
      ]
     },
     "execution_count": 285,
     "metadata": {},
     "output_type": "execute_result"
    }
   ],
   "source": [
    "'qoo' in stopwords"
   ]
  },
  {
   "cell_type": "code",
   "execution_count": 316,
   "metadata": {
    "collapsed": true
   },
   "outputs": [],
   "source": [
    "stopwords = [line.strip() for line in open('./stopwordsKor.txt', encoding='utf-8')]"
   ]
  },
  {
   "cell_type": "markdown",
   "metadata": {
    "collapsed": true
   },
   "source": [
    "final_docs = []\n",
    "for doc in results:\n",
    "    unique_NN_words = set(doc)\n",
    "    final_NN_words = doc\n",
    "    \n",
    "    for word in unique_NN_words:\n",
    "        if word in stopwords:\n",
    "            while word in final_NN_words: final_NN_words.remove(word)\n",
    "    final_docs.append(final_NN_words)"
   ]
  },
  {
   "cell_type": "markdown",
   "metadata": {},
   "source": [
    "from tqdm import tqdm_notebook\n",
    "stopword_dict = {}\n",
    "for s_word in stopwords:\n",
    "    stopword_dict[s_word] = 1\n",
    "\n",
    "final_docs = []\n",
    "for i, doc in enumerate(results):\n",
    "    unique_NN_words = set(doc)\n",
    "    final_NN_words = doc\n",
    "    \n",
    "    for word in tqdm_notebook(unique_NN_words):\n",
    "        if stopword_dict.get(word):\n",
    "            while True:\n",
    "                try:\n",
    "                    final_NN_words.remove(word)\n",
    "                except ValueError:\n",
    "                    break\n",
    "    print(\"finish -\", i)"
   ]
  },
  {
   "cell_type": "code",
   "execution_count": 317,
   "metadata": {},
   "outputs": [
    {
     "name": "stderr",
     "output_type": "stream",
     "text": [
      "Widget Javascript not detected.  It may not be installed or enabled properly.\n"
     ]
    },
    {
     "data": {
      "application/vnd.jupyter.widget-view+json": {
       "model_id": "10d08d73200d40819cc15af6649d9d84"
      }
     },
     "metadata": {},
     "output_type": "display_data"
    },
    {
     "name": "stdout",
     "output_type": "stream",
     "text": [
      "finish - 0\n"
     ]
    },
    {
     "name": "stderr",
     "output_type": "stream",
     "text": [
      "Widget Javascript not detected.  It may not be installed or enabled properly.\n"
     ]
    },
    {
     "data": {
      "application/vnd.jupyter.widget-view+json": {
       "model_id": "371462aff80c4c5eaff01ab34e285212"
      }
     },
     "metadata": {},
     "output_type": "display_data"
    },
    {
     "name": "stdout",
     "output_type": "stream",
     "text": [
      "finish - 1\n"
     ]
    },
    {
     "name": "stderr",
     "output_type": "stream",
     "text": [
      "Widget Javascript not detected.  It may not be installed or enabled properly.\n"
     ]
    },
    {
     "data": {
      "application/vnd.jupyter.widget-view+json": {
       "model_id": "93bf9c1e2b124397a720d3f3d5ae1072"
      }
     },
     "metadata": {},
     "output_type": "display_data"
    },
    {
     "name": "stdout",
     "output_type": "stream",
     "text": [
      "finish - 2\n"
     ]
    },
    {
     "name": "stderr",
     "output_type": "stream",
     "text": [
      "Widget Javascript not detected.  It may not be installed or enabled properly.\n"
     ]
    },
    {
     "data": {
      "application/vnd.jupyter.widget-view+json": {
       "model_id": "f95533f963cb43f0ac3381eaaaff022c"
      }
     },
     "metadata": {},
     "output_type": "display_data"
    },
    {
     "name": "stdout",
     "output_type": "stream",
     "text": [
      "finish - 3\n"
     ]
    }
   ],
   "source": [
    "from tqdm import tqdm_notebook\n",
    "stopword_dict = {}\n",
    "for s_word in stopwords:\n",
    "    stopword_dict[s_word] = 1\n",
    "\n",
    "final_docs = []\n",
    "for i, doc in enumerate(results):\n",
    "    unique_NN_words = set(doc)\n",
    "    final_NN_words = doc\n",
    "    \n",
    "    for word in tqdm_notebook(unique_NN_words):\n",
    "        if stopword_dict.get(word):\n",
    "            final_NN_words = list(filter(lambda x: x!= word, final_NN_words))\n",
    "    final_docs.append(final_NN_words)\n",
    "    print(\"finish -\", i)"
   ]
  },
  {
   "cell_type": "markdown",
   "metadata": {},
   "source": [
    "<br/><br/>\n",
    "### document별 단어들을 각각의 document로 바꾸기"
   ]
  },
  {
   "cell_type": "code",
   "execution_count": 318,
   "metadata": {
    "collapsed": true
   },
   "outputs": [],
   "source": [
    "documents = []\n",
    "for doc_words in final_docs:\n",
    "    document = \" \".join(doc_words)\n",
    "    documents.append(document)"
   ]
  },
  {
   "cell_type": "code",
   "execution_count": 319,
   "metadata": {},
   "outputs": [
    {
     "data": {
      "text/plain": [
       "'직장인 김 모 미국 출장 당시 인공지능 AI 스피커 구글 홈 사 아내 아들 영어 공부 부탁 김 영어 유치원 아들 구글 홈 대화 학부모 조언 스피커 정보 확인 검색 음악 알람 아이 흥미 영어 사용 대학 강모 네이버 스피커 웨이브 이벤트 선물 내년 교환 학생 계획 강 웨이브 영어 회화 기능 활용 거란 강 네이버 번역 파파 활용 기본 회화 습득 활용 웨이브 대화'"
      ]
     },
     "execution_count": 319,
     "metadata": {},
     "output_type": "execute_result"
    }
   ],
   "source": [
    "documents[0][:200]"
   ]
  },
  {
   "cell_type": "markdown",
   "metadata": {},
   "source": [
    "<br/><br/>\n",
    "### 벡터화 하기"
   ]
  },
  {
   "cell_type": "code",
   "execution_count": 320,
   "metadata": {
    "collapsed": true
   },
   "outputs": [],
   "source": [
    "from sklearn.feature_extraction.text import CountVectorizer     # 벡터 수 카운트 할 때"
   ]
  },
  {
   "cell_type": "code",
   "execution_count": 321,
   "metadata": {},
   "outputs": [
    {
     "name": "stderr",
     "output_type": "stream",
     "text": [
      "/Users/Taewoo/anaconda2/envs/python36/lib/python3.6/site-packages/sklearn/feature_extraction/text.py:301: UserWarning: Your stop_words may be inconsistent with your preprocessing. Tokenizing the stop words generated tokens ['_flash_removecallback', 'gyste7gb', 'kbs', 'mbc뉴스', 'news1', 'sbs', 'sbs화면캡처무기수', '무단'] not in stop_words.\n",
      "  'stop_words.' % sorted(inconsistent))\n"
     ]
    }
   ],
   "source": [
    "cv=CountVectorizer(max_df=0.85, max_features=10000, stop_words=stopwords)     \n",
    "# 문서 집합에서 단어 토큰을 생성하고 각 단어의 수를 세어 BOW(Bag Of Words) 인코딩한 벡터를 만든다.\n",
    "# max_df=0.85란 말은 documents들에서 85%이상 나타나는 토큰(단어)를 무시하라는 것, \n",
    "# max_df=25란 말은 documents들에서 25번 이상 나타나는 토큰(단어)를 무시하라는 것,\n",
    "# maximum 단어의 개수를 1만개로 정함 - 빈도수가 높은 단어 순으로 1만개를 자름(메모리 에러 안나려고)\n",
    "# min_df=1, ngram_range=(1,1) 등은 default 값임  \n",
    "\n",
    "word_count_vector=cv.fit_transform(documents)      # vectorize된 word_count_vector\n",
    "feature_names=cv.get_feature_names()"
   ]
  },
  {
   "cell_type": "code",
   "execution_count": 322,
   "metadata": {},
   "outputs": [
    {
     "data": {
      "text/plain": [
       "10000"
      ]
     },
     "execution_count": 322,
     "metadata": {},
     "output_type": "execute_result"
    }
   ],
   "source": [
    "len(cv.vocabulary_)      # 위에서 max_features를 10000으로 주었지만 단어 수가 그 이하였음"
   ]
  },
  {
   "cell_type": "code",
   "execution_count": 323,
   "metadata": {
    "scrolled": true
   },
   "outputs": [
    {
     "data": {
      "text/plain": [
       "{'김진형': 3866,\n",
       " 'airi': 64,\n",
       " '코리': 8768,\n",
       " '하현': 9404,\n",
       " '팬서': 9122,\n",
       " '스트레인지': 6313,\n",
       " 'uiot': 2611,\n",
       " '원혁': 7238,\n",
       " 'aiot': 60,\n",
       " '수요처': 6198,\n",
       " '최준': 8604,\n",
       " 'luxmen': 1479,\n",
       " 'personalizedtext': 1860,\n",
       " '임미숙': 7694,\n",
       " 'ups': 2649,\n",
       " 'nlskrl': 1695,\n",
       " '형석': 9733,\n",
       " '투자비': 8999,\n",
       " '패트릭': 9118,\n",
       " '피력': 9309,\n",
       " '십수': 6496,\n",
       " '한나절': 9481,\n",
       " '상층부': 5841,\n",
       " '불평등': 5552,\n",
       " '플리커': 9300,\n",
       " 'items': 1229,\n",
       " '중략': 8244,\n",
       " 'inside': 1186,\n",
       " '하버드': 9367,\n",
       " '오즈': 7042,\n",
       " '이한': 7587,\n",
       " 'mashine': 1511,\n",
       " '뒷심': 4475,\n",
       " 'wake': 2778,\n",
       " '명사': 4863,\n",
       " '뇌리': 4098,\n",
       " '간밤': 3059,\n",
       " '박흥순': 5163,\n",
       " '김경민': 3776,\n",
       " '여세': 6867,\n",
       " '국제가전박람회': 3604,\n",
       " '문지현': 5001,\n",
       " '김기진': 3782,\n",
       " '동승': 4412,\n",
       " '김승미': 3815,\n",
       " '쉬리': 6258,\n",
       " '선희': 5970,\n",
       " 'weconomy': 2807,\n",
       " '마이크로소프트웨어': 4732,\n",
       " '셰어': 6065,\n",
       " '에디터톤': 6811,\n",
       " 'marathon': 1501,\n",
       " '분장': 5528,\n",
       " '태평로': 8925,\n",
       " 'makers': 1488,\n",
       " '한정수': 9531,\n",
       " '라지브': 4551,\n",
       " '콤비네이션': 8795,\n",
       " '특파원': 9038,\n",
       " '신현규': 6452,\n",
       " '희영': 9984,\n",
       " '특전': 9035,\n",
       " '홍익대': 9818,\n",
       " 'walt': 2785,\n",
       " '진원지': 8365,\n",
       " '편재': 9162,\n",
       " '함의': 9565,\n",
       " '김수연': 3812,\n",
       " '도요타자동차': 4353,\n",
       " 'ask': 145,\n",
       " '이솝': 7507,\n",
       " '우화': 7184,\n",
       " '강정수': 3133,\n",
       " '어린': 6770,\n",
       " '실린더': 6461,\n",
       " '오자': 7034,\n",
       " '단답': 4169,\n",
       " '송지호': 6145,\n",
       " '남궁훈': 3958,\n",
       " '해나': 9584,\n",
       " '면담': 4847,\n",
       " '허심탄회': 9650,\n",
       " '냉정': 4020,\n",
       " '금지법': 3699,\n",
       " '특정시': 9036,\n",
       " '보더': 5381,\n",
       " '모스트': 4900,\n",
       " '테크니컬': 8941,\n",
       " '인도네시아어': 7615,\n",
       " '편견': 9158,\n",
       " '명암': 4866,\n",
       " '도봉구': 4345,\n",
       " '난제': 3953,\n",
       " '소동': 6074,\n",
       " '고민거리': 3347,\n",
       " '창사': 8446,\n",
       " 'skcc': 2213,\n",
       " '낭패': 3992,\n",
       " '별일': 5364,\n",
       " '강수량': 3121,\n",
       " '사심': 5695,\n",
       " 'iu': 1234,\n",
       " '이경은': 7440,\n",
       " '불여일견': 5548,\n",
       " 'csmo': 538,\n",
       " '최현정': 8607,\n",
       " '응답하라': 7408,\n",
       " '화구': 9833,\n",
       " 'he': 1053,\n",
       " 'she': 2184,\n",
       " '화성시': 9847,\n",
       " '아유미': 6571,\n",
       " '이태원역': 7581,\n",
       " '이병헌': 7477,\n",
       " '개천절': 3167,\n",
       " '맹하': 4805,\n",
       " 'fcfuture': 813,\n",
       " 'converged': 490,\n",
       " '그르노블': 3658,\n",
       " 'gio': 960,\n",
       " '마그나': 4691,\n",
       " '동맹군': 4395,\n",
       " '이경전': 7441,\n",
       " 'sra': 2305,\n",
       " '정의석': 7993,\n",
       " '특허분쟁': 9039,\n",
       " 'cvpr': 551,\n",
       " 'builtin': 328,\n",
       " '작업장': 7791,\n",
       " '능지': 4126,\n",
       " 'deview': 602,\n",
       " 'extensions': 791,\n",
       " 'cic': 406,\n",
       " '다카라토미': 4162,\n",
       " '후반부': 9928,\n",
       " '석상': 5936,\n",
       " '비탈길': 5627,\n",
       " '스케이트보드': 6299,\n",
       " '감속': 3086,\n",
       " '기울기': 3747,\n",
       " '이지현': 7570,\n",
       " 'vinclu': 2716,\n",
       " 'whale': 2824,\n",
       " '정상급': 7973,\n",
       " '여가수': 6860,\n",
       " '김찬': 3867,\n",
       " '경호': 3296,\n",
       " 'clair': 419,\n",
       " 'feature': 817,\n",
       " 'matrix': 1517,\n",
       " '가을밤': 3028,\n",
       " '클레어': 8842,\n",
       " 'extraction': 794,\n",
       " 'emotion': 726,\n",
       " '볼루': 5436,\n",
       " '홈사': 9801,\n",
       " '앰비언트': 6711,\n",
       " '언어학': 6789,\n",
       " '생활관': 5873,\n",
       " '한화자산운용': 9548,\n",
       " '맨해튼': 4801,\n",
       " '김수미': 3811,\n",
       " 'sally': 2094,\n",
       " '영동대로': 6935,\n",
       " '협회장': 9731,\n",
       " '협의체': 9727,\n",
       " '진기': 8351,\n",
       " '기진': 3751,\n",
       " '합의점': 9571,\n",
       " '전환율': 7940,\n",
       " '분초': 5530,\n",
       " '무더기': 4947,\n",
       " 'cpnd': 516,\n",
       " '클립스': 8852,\n",
       " '이규섭': 7446,\n",
       " '박지성': 5155,\n",
       " '맨체스터': 4799,\n",
       " '앰버': 6710,\n",
       " '어린이재단': 6771,\n",
       " '와이디온라인': 7080,\n",
       " '사육': 5705,\n",
       " '아시안': 6562,\n",
       " '이선': 7501,\n",
       " '코렐': 8763,\n",
       " '헤라': 9670,\n",
       " '제너': 8032,\n",
       " '넵튠': 4041,\n",
       " '음양사': 7404,\n",
       " '기묘한': 3725,\n",
       " 'sr': 2304,\n",
       " '등불': 4494,\n",
       " '던전': 4310,\n",
       " '벡스코': 5329,\n",
       " '알약': 6653,\n",
       " 'trojan': 2540,\n",
       " 'ransom': 1994,\n",
       " '격전장': 3231,\n",
       " '은혜': 7391,\n",
       " '인내심': 7614,\n",
       " '장래': 7820,\n",
       " '체카': 8557,\n",
       " '선양': 5962,\n",
       " '해단식': 9585,\n",
       " '박상진': 5132,\n",
       " '환골탈태': 9868,\n",
       " 'aitems': 67,\n",
       " '친분': 8680,\n",
       " '뉴욕타임스': 4122,\n",
       " 'foodtech': 870,\n",
       " '트러스트': 9011,\n",
       " '격언': 3229,\n",
       " '선봉장': 5954,\n",
       " '직책': 8346,\n",
       " 'aiaas': 53,\n",
       " '회동': 9900,\n",
       " '시화': 6381,\n",
       " '윤필': 7364,\n",
       " '황성진': 9889,\n",
       " '권도경': 3633,\n",
       " '유일무이': 7316,\n",
       " '김건우': 3773,\n",
       " '혜진': 9744,\n",
       " '라만': 4537,\n",
       " '명문장': 4861,\n",
       " '영미': 6937,\n",
       " '어법': 6774,\n",
       " '집구석': 8391,\n",
       " '에픽하이': 6849,\n",
       " '첫돌': 8521,\n",
       " '신승훈': 6426,\n",
       " '로버트': 4595,\n",
       " '허구': 9642,\n",
       " '차치': 8422,\n",
       " '공공복지': 3397,\n",
       " '융자': 7373,\n",
       " 'dnn': 635,\n",
       " '연구원장': 6893,\n",
       " '길재': 3771,\n",
       " '익살': 7604,\n",
       " '물통': 5021,\n",
       " '박세정': 5138,\n",
       " '리멤버': 4652,\n",
       " 'sunny': 2389,\n",
       " '붉은빛': 5555,\n",
       " 'coral': 497,\n",
       " '개인차': 3163,\n",
       " '작은': 7792,\n",
       " '직선거리': 8336,\n",
       " '중음': 8267,\n",
       " '가려': 2994,\n",
       " '심경': 6479,\n",
       " 'frame': 891,\n",
       " '백지영': 5273,\n",
       " 'citylife': 413,\n",
       " '사장단': 5715,\n",
       " '포수': 9190,\n",
       " '사오정': 5699,\n",
       " '체급': 8548,\n",
       " '라이온': 4547,\n",
       " '직육면체': 8342,\n",
       " '강석호': 3119,\n",
       " 'ilc': 1156,\n",
       " 'espz': 758,\n",
       " '최현': 8606,\n",
       " '라쿠텐': 4553,\n",
       " '유키': 7334,\n",
       " '가창력': 3039,\n",
       " '시치미': 6374,\n",
       " '이재연': 7552,\n",
       " '타나': 8864,\n",
       " 'plug': 1895,\n",
       " '찹쌀떡': 8440,\n",
       " '하마': 9364,\n",
       " '블랙리스트': 5584,\n",
       " 'doc': 637,\n",
       " '하도급': 9357,\n",
       " '과징금': 3440,\n",
       " '윤활유': 7368,\n",
       " '태현': 8926,\n",
       " 'pool': 1907,\n",
       " '김현철': 3893,\n",
       " '일산화탄소': 7676,\n",
       " '알코올': 6655,\n",
       " '이영호': 7526,\n",
       " '노량진': 4047,\n",
       " '축사': 8626,\n",
       " '김용수': 3830,\n",
       " '허욱': 9652,\n",
       " '사무총장': 5680,\n",
       " '정태': 8016,\n",
       " '고스톱': 3358,\n",
       " 'living': 1440,\n",
       " '김규식': 3780,\n",
       " '동철': 4436,\n",
       " '토다이': 8954,\n",
       " '김창현': 3869,\n",
       " 'programming': 1938,\n",
       " 'sjw': 2211,\n",
       " '조깅': 8091,\n",
       " 'mars': 1509,\n",
       " '태국어': 8905,\n",
       " 'buds': 326,\n",
       " 'dash': 564,\n",
       " '김어준': 3820,\n",
       " '출국장': 8630,\n",
       " '이은정': 7542,\n",
       " '별내역': 5358,\n",
       " '아이파크': 6592,\n",
       " '상규': 5807,\n",
       " '문호': 5007,\n",
       " '윤경': 7352,\n",
       " '신동': 6406,\n",
       " 'lg상사': 1417,\n",
       " '구본무': 3565,\n",
       " '마곡사': 4689,\n",
       " '기술원': 3733,\n",
       " '크리스털': 8832,\n",
       " '백상': 5262,\n",
       " '혜성': 9740,\n",
       " '진규': 8350,\n",
       " '진서': 8355,\n",
       " '전보': 7910,\n",
       " '이승': 7514,\n",
       " '김석기': 3803,\n",
       " '김필': 3883,\n",
       " '숙희': 6232,\n",
       " '장영': 7843,\n",
       " '김준': 3858,\n",
       " '유석': 7301,\n",
       " '박성': 5134,\n",
       " 'lg하우시스': 1418,\n",
       " '민화': 5082,\n",
       " '지투알': 8322,\n",
       " '원준': 7235,\n",
       " '소우': 6089,\n",
       " '크로스오버': 8825,\n",
       " '배타': 5251,\n",
       " '합동': 9568,\n",
       " '김인': 3836,\n",
       " '희석': 9983,\n",
       " '국무총리': 3595,\n",
       " '강윤': 3129,\n",
       " '임아영': 7698,\n",
       " '시바': 6357,\n",
       " '브라마': 5562,\n",
       " '번들': 5292,\n",
       " '이인희': 7546,\n",
       " '나폴레옹': 3933,\n",
       " '툴롱': 9000,\n",
       " '포위전': 9198,\n",
       " '코르시카': 8767,\n",
       " '전향': 7937,\n",
       " '관광업': 3448,\n",
       " '자크': 7780,\n",
       " '다비드': 4139,\n",
       " '알프스': 6661,\n",
       " '플루타르코스': 9297,\n",
       " '알렉산더': 6648,\n",
       " '한니발': 9483,\n",
       " '영웅들': 6945,\n",
       " '전황': 7942,\n",
       " '함대': 9560,\n",
       " '왕당파': 7096,\n",
       " '장교': 7809,\n",
       " '수송': 6184,\n",
       " '대포': 4269,\n",
       " '세티': 6057,\n",
       " '댓가': 4291,\n",
       " '요충지': 7135,\n",
       " '공화': 3432,\n",
       " '사형': 5729,\n",
       " '중위': 8265,\n",
       " '자장면': 7775,\n",
       " '김영욱': 3825,\n",
       " '단박': 4173,\n",
       " '축약': 8628,\n",
       " '데미안': 4318,\n",
       " '접근법': 7953,\n",
       " 'dsf': 668,\n",
       " '태아': 8913,\n",
       " '원규': 7213,\n",
       " '책무': 8474,\n",
       " '역외': 6886,\n",
       " '게로': 3212,\n",
       " '건호': 3197,\n",
       " '이합집산': 7588,\n",
       " '분발': 5524,\n",
       " '박재형': 5146,\n",
       " 'partnership': 1838,\n",
       " 'answering': 111,\n",
       " 'nsml': 1722,\n",
       " '부등': 5462,\n",
       " '스타터킷': 6305,\n",
       " '크레인': 8819,\n",
       " '김문성': 3791,\n",
       " '박정수': 5149,\n",
       " '탑승객': 8901,\n",
       " '송인': 6141,\n",
       " 'jebo': 1249,\n",
       " '김상조': 3802,\n",
       " '제재': 8068,\n",
       " '개선책': 3156,\n",
       " '불똥': 5540,\n",
       " '설선': 5975,\n",
       " '행위자': 9632,\n",
       " '히든카드': 9989,\n",
       " '삼성벤처투자': 5774,\n",
       " '전직': 7930,\n",
       " '충당': 8640,\n",
       " '전환사채': 7939,\n",
       " '김정우': 3842,\n",
       " 'think': 2469,\n",
       " '세상의': 6039,\n",
       " '모든': 4886,\n",
       " '한창희': 9537,\n",
       " '희종': 9986,\n",
       " '박성우': 5135,\n",
       " '블루홀': 5591,\n",
       " '장병규': 7830,\n",
       " 'feel': 821,\n",
       " '영화배우': 6962,\n",
       " '최재필': 8602,\n",
       " '이정호': 7560,\n",
       " '편제': 9163,\n",
       " '제천': 8074,\n",
       " 'isms': 1224,\n",
       " '조달청': 8092,\n",
       " '한중': 9533,\n",
       " 'images': 1159,\n",
       " '라데온': 4535,\n",
       " '컴스코어': 8738,\n",
       " '인호': 7657,\n",
       " '블링크': 5593,\n",
       " '초인종': 8574,\n",
       " '이해관계자': 7590,\n",
       " '라이스': 4546,\n",
       " 'fwa': 916,\n",
       " 'gpp': 987,\n",
       " 'nugusk': 1743,\n",
       " 'geniekt': 941,\n",
       " '한국공학한림원': 9429,\n",
       " '김정희': 3846,\n",
       " '지식in': 8308,\n",
       " '한국공항공사': 9431,\n",
       " '초대권': 8563,\n",
       " '몸동작': 4934,\n",
       " '하바': 9366,\n",
       " '그랜드체이스': 3652,\n",
       " '앙상블': 6680,\n",
       " '해시': 9597,\n",
       " '양립': 6736,\n",
       " '수여식': 6192,\n",
       " '휴게실': 9957,\n",
       " '안식': 6634,\n",
       " 'entertain': 740,\n",
       " '이석우': 7499,\n",
       " '정령': 7964,\n",
       " '페어리': 9143,\n",
       " '아이린': 6577,\n",
       " 'npc': 1714,\n",
       " '루돌프': 4627,\n",
       " '머리띠': 4810,\n",
       " '수필': 6220,\n",
       " '현석': 9711,\n",
       " '농촌': 4095,\n",
       " '당선작': 4217,\n",
       " '원더': 7216,\n",
       " '외계': 7105,\n",
       " '트레이스': 9014,\n",
       " '배지': 5249,\n",
       " '계측': 3313,\n",
       " '모네': 4884,\n",
       " 'newsai': 1677,\n",
       " '밑바탕': 5091,\n",
       " '조성진': 8107,\n",
       " 'sho': 2187,\n",
       " '소절': 6095,\n",
       " '보직': 5403,\n",
       " '사령탑': 5673,\n",
       " '표류': 9219,\n",
       " 'disco': 622,\n",
       " '커머스': 8725,\n",
       " '글쇠': 3680,\n",
       " '맞춤법': 4778,\n",
       " '음란': 7398,\n",
       " 'foldable': 862,\n",
       " '하키': 9399,\n",
       " '다이내믹스': 4152,\n",
       " '아틀라스': 6611,\n",
       " 'atlas': 161,\n",
       " '단잠': 4183,\n",
       " '박나래': 5124,\n",
       " '우르': 7158,\n",
       " 'kisti': 1320,\n",
       " '이종민': 7563,\n",
       " 'yeslin': 2915,\n",
       " '홍윤정': 9817,\n",
       " '이경수': 7438,\n",
       " '윤희': 7370,\n",
       " '서영호': 5906,\n",
       " '획정': 9910,\n",
       " '유권자': 7280,\n",
       " '철광석': 8510,\n",
       " '원재료': 7231,\n",
       " '구용': 3568,\n",
       " '이창': 7573,\n",
       " '혜원': 9741,\n",
       " '주문자': 8196,\n",
       " '개안': 3158,\n",
       " 'page': 1825,\n",
       " '글꼴': 3673,\n",
       " '외적': 7117,\n",
       " 'brich': 305,\n",
       " '격변기': 3227,\n",
       " '카리': 8693,\n",
       " '펠리오': 9153,\n",
       " '이동식': 7454,\n",
       " '수지구': 6211,\n",
       " '죽전동': 8218,\n",
       " '해령': 9588,\n",
       " '등식': 4496,\n",
       " '호서대': 9757,\n",
       " 'around': 141,\n",
       " 'aircart': 62,\n",
       " '오동환': 6993,\n",
       " '외래어': 7112,\n",
       " 'unmanned': 2639,\n",
       " 'stores': 2347,\n",
       " 'automated': 173,\n",
       " '취급고': 8647,\n",
       " 'commerce': 452,\n",
       " '쇼핑카트': 6153,\n",
       " '서빙': 5898,\n",
       " '창립자': 8445,\n",
       " '대담': 4234,\n",
       " '하수': 9371,\n",
       " '회귀': 9898,\n",
       " '국제기구': 3605,\n",
       " '부익부': 5486,\n",
       " '송년': 6134,\n",
       " '얼론': 6792,\n",
       " '만달레이': 4751,\n",
       " '허프': 9656,\n",
       " '총책임자': 8583,\n",
       " '상대편': 5812,\n",
       " '이항': 7589,\n",
       " 'las': 1379,\n",
       " 'vegas': 2680,\n",
       " '소방대원': 6078,\n",
       " '라이카': 4548,\n",
       " '브리프': 5579,\n",
       " '안감': 6619,\n",
       " '성용': 6005,\n",
       " '이상우': 7493,\n",
       " '하이센스': 9386,\n",
       " '차별화': 8416,\n",
       " '강호': 3138,\n",
       " '바통': 5122,\n",
       " 'artik': 143,\n",
       " 'wear': 2801,\n",
       " '파고다교육그룹': 9059,\n",
       " '김철': 3872,\n",
       " '레미제라블': 4571,\n",
       " '진척': 8376,\n",
       " '사임': 5713,\n",
       " '동아시아': 4415,\n",
       " '실익': 6471,\n",
       " '균열': 3646,\n",
       " '하의': 9381,\n",
       " 'iocare': 1200,\n",
       " '진혁': 8383,\n",
       " 'nxp': 1753,\n",
       " '헬라': 9680,\n",
       " '꼴찌': 3908,\n",
       " '방송업': 5213,\n",
       " 'cj그룹': 415,\n",
       " 'mso': 1618,\n",
       " '김기환': 3784,\n",
       " '김용': 3827,\n",
       " '김진욱': 3865,\n",
       " 'navi': 1652,\n",
       " 'iocareapmse': 1203,\n",
       " 'iocareapd': 1202,\n",
       " '조문': 8096,\n",
       " '중후반': 8277,\n",
       " '오스트리아': 7029,\n",
       " '디톡스': 4515,\n",
       " '미나리': 5029,\n",
       " '휴롬': 9959,\n",
       " '원액': 7224,\n",
       " '도라지': 4336,\n",
       " '오미자': 7017,\n",
       " '효능': 9916,\n",
       " '아이클레보': 6588,\n",
       " 'bldc': 269,\n",
       " 'mapping': 1499,\n",
       " '쇼트': 6151,\n",
       " '석암': 5937,\n",
       " 'joonxnugu': 1271,\n",
       " 'tvx': 2574,\n",
       " '엄정화': 6795,\n",
       " '크로': 8821,\n",
       " '애트모스': 6699,\n",
       " '토털': 8965,\n",
       " '격동': 3225,\n",
       " 'btvnugu': 322,\n",
       " 'gu': 1016,\n",
       " '퇴계로': 8986,\n",
       " '실탄': 6475,\n",
       " '최인혁': 8601,\n",
       " 'voddb': 2746,\n",
       " '타임머신': 8873,\n",
       " '김창훈': 3870,\n",
       " '간극': 3057,\n",
       " '고가도': 3316,\n",
       " '실마리': 6462,\n",
       " 'cp': 514,\n",
       " 'yuni': 2932,\n",
       " '보릿고개': 5387,\n",
       " 'kt스포츠': 1365,\n",
       " 'blaster': 267,\n",
       " '차코': 8423,\n",
       " 'cgo': 383,\n",
       " '미와': 5063,\n",
       " '미도': 5034,\n",
       " '강미': 3107,\n",
       " '스쿠터': 6301,\n",
       " '그린팩토리': 3659,\n",
       " '쇼트트랙': 6152,\n",
       " '이상화': 7496,\n",
       " '선수촌': 5960,\n",
       " '아이스하키': 6582,\n",
       " 'gai': 918,\n",
       " '추진단': 8619,\n",
       " '화씨': 9849,\n",
       " '운동선수': 7186,\n",
       " '스케이팅': 6300,\n",
       " '강습': 3122,\n",
       " '포장마차': 9200,\n",
       " '현지인': 9718,\n",
       " '테라로사': 8939,\n",
       " '한강로': 9418,\n",
       " '언감생심': 6786,\n",
       " '용산사': 7143,\n",
       " '용품점': 7150,\n",
       " '질문자': 8386,\n",
       " '호화': 9783,\n",
       " '해피빈': 9610,\n",
       " '교생': 3523,\n",
       " '박민수': 5128,\n",
       " '콘티': 8789,\n",
       " '추리': 8614,\n",
       " '아마추어': 6550,\n",
       " '화이트데이': 9854,\n",
       " '발작': 5193,\n",
       " '에오스': 6829,\n",
       " '휘트니': 9952,\n",
       " '에밀': 6817,\n",
       " 'gen': 937,\n",
       " '미디어오늘': 5037,\n",
       " '지구촌': 8291,\n",
       " '주호': 8216,\n",
       " '채도': 8461,\n",
       " '극성': 3666,\n",
       " '집진': 8395,\n",
       " '마이크로미터': 4730,\n",
       " '이산화질소': 7488,\n",
       " '대섭': 4249,\n",
       " '오염도': 7031,\n",
       " '사친': 5725,\n",
       " '강박': 3109,\n",
       " '진면목': 8354,\n",
       " '고마워요': 3344,\n",
       " '롯데케미칼': 4622,\n",
       " '액면': 6702,\n",
       " '입국': 7715,\n",
       " '송원산업': 6140,\n",
       " '포스코강판': 9191,\n",
       " '두산인프라코어': 4454,\n",
       " '천주로': 8501,\n",
       " '배급사': 5228,\n",
       " '덕산': 4301,\n",
       " 'simpac': 2201,\n",
       " '첼로': 8560,\n",
       " 'lighting': 1422,\n",
       " 'satellite': 2102,\n",
       " '흰빛': 9988,\n",
       " 'lm': 1445,\n",
       " '루멘': 4628,\n",
       " '적색': 7884,\n",
       " '플로어': 9296,\n",
       " '설리': 5972,\n",
       " '집무실': 8392,\n",
       " '벙어리': 5312,\n",
       " '소회': 6106,\n",
       " '한통': 9542,\n",
       " 'ugc': 2605,\n",
       " '외환은행': 7120,\n",
       " '문어체': 4992,\n",
       " '당연시': 4219,\n",
       " '하객': 9341,\n",
       " '인큐베이터': 7645,\n",
       " '인터콘티넨탈': 7650,\n",
       " '테헤란로': 8944,\n",
       " '인터컨티넨탈': 7649,\n",
       " '일용': 7682,\n",
       " '불식': 5546,\n",
       " '봄나들이': 5441,\n",
       " '경향하우징페어': 3294,\n",
       " 'kisdi': 1318,\n",
       " '참관': 8433,\n",
       " 'kjy': 1323,\n",
       " 'coal': 440,\n",
       " 'care': 355,\n",
       " '이해선': 7591,\n",
       " '박소연': 5139,\n",
       " '클로즈': 8844,\n",
       " '반젤리스': 5181,\n",
       " '부부장': 5467,\n",
       " '답방': 4205,\n",
       " '정상회담': 7976,\n",
       " '후손': 9932,\n",
       " '선언문': 5963,\n",
       " '구속': 3567,\n",
       " '단원': 4180,\n",
       " '연극': 6894,\n",
       " '성폭력': 6014,\n",
       " '슈퍼카': 6275,\n",
       " '예탁': 6986,\n",
       " 'gdr': 934,\n",
       " '현희': 9721,\n",
       " '번역가': 5294,\n",
       " '바벨': 5107,\n",
       " '재채기': 7873,\n",
       " '염기서열': 6927,\n",
       " '빈축': 5641,\n",
       " '법적': 5308,\n",
       " '농구': 4079,\n",
       " '연고': 6890,\n",
       " '자금력': 7736,\n",
       " '사외이사': 5701,\n",
       " '강변북로': 3112,\n",
       " '치기': 8661,\n",
       " 'cloi': 427,\n",
       " 'leader': 1394,\n",
       " '현영': 9713,\n",
       " '최정': 8603,\n",
       " '조현영': 8135,\n",
       " '일임': 7684,\n",
       " '홀몸': 9797,\n",
       " 'csr': 539,\n",
       " '열심': 6922,\n",
       " '성종': 6011,\n",
       " '결별': 3236,\n",
       " '우투': 7181,\n",
       " '측량': 8656,\n",
       " '이동인': 7456,\n",
       " '데브': 4320,\n",
       " 'dev': 597,\n",
       " '첫눈': 8520,\n",
       " '유니버스': 7286,\n",
       " '락스': 4557,\n",
       " '명문대': 4860,\n",
       " '개소식': 3157,\n",
       " 'qs': 1980,\n",
       " '대위': 4255,\n",
       " '김성훈': 3810,\n",
       " '양철': 6756,\n",
       " '대응책': 4257,\n",
       " '노인과': 4060,\n",
       " '김성': 3805,\n",
       " '이경우': 7439,\n",
       " '비전동': 5618,\n",
       " '인턴십': 7651,\n",
       " 'recommendation': 2016,\n",
       " 'dialog': 608,\n",
       " 'mobility': 1573,\n",
       " '해대': 9586,\n",
       " 'msc': 1616,\n",
       " '조종사': 8127,\n",
       " '악당': 6617,\n",
       " '마크로': 4740,\n",
       " '네이션': 4033,\n",
       " '슈퍼배드': 6271,\n",
       " '피부색': 9312,\n",
       " '파이오니아': 9076,\n",
       " 'holobox': 1082,\n",
       " '인원수': 7632,\n",
       " '스루': 6281,\n",
       " '김희': 3898,\n",
       " '정희': 8025,\n",
       " '척도': 8485,\n",
       " '동태': 4440,\n",
       " '연단': 6897,\n",
       " '의료인': 7418,\n",
       " 'airspace': 65,\n",
       " 'present': 1925,\n",
       " '채집': 8469,\n",
       " '다이스': 4155,\n",
       " '클립보드': 8851,\n",
       " 'award': 187,\n",
       " '심미': 6484,\n",
       " '스팅어': 6316,\n",
       " 'laser': 1380,\n",
       " '최고상': 8586,\n",
       " '본상': 5432,\n",
       " '이정환': 7561,\n",
       " '레드닷': 4568,\n",
       " '어워드': 6777,\n",
       " 'winner': 2846,\n",
       " '컬럼': 8736,\n",
       " '병실': 5373,\n",
       " '보훈': 5413,\n",
       " '심리치료': 6483,\n",
       " '병동': 5369,\n",
       " '복약': 5419,\n",
       " 'occ': 1762,\n",
       " '송가': 6132,\n",
       " '박민영': 5129,\n",
       " '수신인': 6187,\n",
       " '구출': 3581,\n",
       " 'cirp': 410,\n",
       " '권경원': 3631,\n",
       " '양재천': 6749,\n",
       " '찬우': 8429,\n",
       " 'lifestyle': 1421,\n",
       " '포스트잇': 9196,\n",
       " 'npb': 1713,\n",
       " 'dau': 567,\n",
       " '동작구': 4433,\n",
       " '배달업': 5231,\n",
       " '요도': 7122,\n",
       " '난관': 3946,\n",
       " '애비뉴': 6695,\n",
       " '과학기술대학교': 3443,\n",
       " 'laboratory': 1372,\n",
       " '환금': 9869,\n",
       " '인피': 7654,\n",
       " '레드카펫': 4569,\n",
       " '위도': 7258,\n",
       " 'thek': 2463,\n",
       " '링키지': 4683,\n",
       " '수어': 6191,\n",
       " '길드': 3768,\n",
       " '이종석': 7565,\n",
       " '첫사랑': 8522,\n",
       " '요식': 7128,\n",
       " '슈퍼셀': 6273,\n",
       " 'stage': 2317,\n",
       " '연세로': 6904,\n",
       " '암초': 6670,\n",
       " '풍선효과': 9244,\n",
       " '미풍': 5067,\n",
       " '일라이': 7667,\n",
       " '샬롯': 5878,\n",
       " '대화체': 4286,\n",
       " '본궤도': 5427,\n",
       " '유후': 7345,\n",
       " '힘찬': 9999,\n",
       " '자임': 7772,\n",
       " '비콘': 5624,\n",
       " '곤두': 3386,\n",
       " '후광': 9926,\n",
       " '거래선': 3176,\n",
       " 'gallery': 921,\n",
       " 'festival': 824,\n",
       " '동아프리카': 4418,\n",
       " '자형': 7785,\n",
       " '도포': 4358,\n",
       " '무표정': 4975,\n",
       " '경멸': 3262,\n",
       " '놀람': 4075,\n",
       " 'culture': 542,\n",
       " '세르반테스': 6030,\n",
       " '반세기': 5171,\n",
       " '희곡': 9979,\n",
       " '돈키호테': 4373,\n",
       " '홍광호': 9809,\n",
       " '호소력': 9759,\n",
       " 'info': 1176,\n",
       " 'limited': 1426,\n",
       " '성룡': 5992,\n",
       " '세계관': 6019,\n",
       " '윈터': 7272,\n",
       " '가디언즈': 2990,\n",
       " '곰돌이': 3393,\n",
       " '은희': 7392,\n",
       " '삽화가': 5798,\n",
       " '만화가': 4758,\n",
       " '아키라': 6606,\n",
       " '피콜로': 9327,\n",
       " '작당': 7787,\n",
       " '김민정': 3796,\n",
       " '수의': 6201,\n",
       " '야시장': 6719,\n",
       " '비축': 5622,\n",
       " '한국민속촌': 9439,\n",
       " '사또': 5668,\n",
       " '호객': 9745,\n",
       " '훈장': 9946,\n",
       " '서당': 5883,\n",
       " '사자성': 5714,\n",
       " '한영일': 9514,\n",
       " '문화원': 5009,\n",
       " '배웅': 5247,\n",
       " '견지': 3234,\n",
       " '아티스츠': 6613,\n",
       " '정연승': 7984,\n",
       " '반절': 5180,\n",
       " '컵케이크': 8740,\n",
       " '박형수': 5161,\n",
       " 'volte': 2749,\n",
       " '오존': 7038,\n",
       " '고갱': 3321,\n",
       " '예정자': 6981,\n",
       " '마법사': 4705,\n",
       " '교환소': 3545,\n",
       " '모험가': 4910,\n",
       " '줌인터넷': 8226,\n",
       " 'venture': 2687,\n",
       " '구주': 3577,\n",
       " '워터마크': 7208,\n",
       " '그루트': 3657,\n",
       " '관의': 3464,\n",
       " '납세자': 3989,\n",
       " '유해무': 7343,\n",
       " '중개업': 8228,\n",
       " '불청객': 5550,\n",
       " '목돈': 4915,\n",
       " '청청': 8539,\n",
       " 'dynamics': 685,\n",
       " '흡입구': 9972,\n",
       " '교원그룹': 3529,\n",
       " '교원': 3528,\n",
       " '클리닝': 8847,\n",
       " '해약': 9600,\n",
       " '운영자': 7189,\n",
       " '기소': 3731,\n",
       " 'ogq': 1773,\n",
       " '본명': 5430,\n",
       " '키오': 8854,\n",
       " '캣츠': 8723,\n",
       " '도레미': 4337,\n",
       " '제작소': 8067,\n",
       " '크로키': 8828,\n",
       " '여주인공': 6877,\n",
       " '농수': 4086,\n",
       " '공산품': 3418,\n",
       " '콩순이': 8797,\n",
       " '윤선': 7355,\n",
       " '꽃집': 3913,\n",
       " '태우': 8918,\n",
       " '김주완': 3854,\n",
       " 'fraud': 895,\n",
       " '밥집': 5203,\n",
       " '대학가': 4273,\n",
       " '스승': 6286,\n",
       " '카네이션': 8689,\n",
       " '사인회': 5712,\n",
       " '대동단결': 4236,\n",
       " '출생일': 8634,\n",
       " '자바스크립트': 7753,\n",
       " '일사천리': 7675,\n",
       " 'g메일': 1021,\n",
       " '공공사업': 3398,\n",
       " '하노버': 9353,\n",
       " '찬동': 8426,\n",
       " '서동': 5885,\n",
       " '혈전': 9723,\n",
       " '김은지': 3834,\n",
       " '고독감': 3332,\n",
       " '고독': 3331,\n",
       " '고독사': 3333,\n",
       " '웨비': 7246,\n",
       " 'allshowtv': 84,\n",
       " '밤하늘': 5200,\n",
       " '암실': 6668,\n",
       " '휘도': 9950,\n",
       " '햇볕': 9622,\n",
       " '공명': 3412,\n",
       " 'dts': 674,\n",
       " '유정': 7320,\n",
       " '삼다수': 5770,\n",
       " '지대한': 8293,\n",
       " 'nit': 1691,\n",
       " 'dtsx': 675,\n",
       " 'dios': 616,\n",
       " '변상': 5344,\n",
       " '악동': 6618,\n",
       " '심형탁': 6493,\n",
       " '판매대': 9091,\n",
       " '책가방': 8472,\n",
       " '잠실점': 7800,\n",
       " '사진기': 5722,\n",
       " '홀린': 9796,\n",
       " '마동석': 4696,\n",
       " '닦이': 4166,\n",
       " '실용주의': 6470,\n",
       " '캔디': 8718,\n",
       " '석촌': 5940,\n",
       " ...}"
      ]
     },
     "execution_count": 323,
     "metadata": {},
     "output_type": "execute_result"
    }
   ],
   "source": [
    "cv.vocabulary_"
   ]
  },
  {
   "cell_type": "markdown",
   "metadata": {},
   "source": [
    "<br/><br/>\n",
    "### TF-IDF 적용\n",
    "- TF * IDF는 특정 문서 내에서 단어 빈도가 높을수록, 전체 문서들에는 그 단어를 포함한 문서가 적을수록 TF * IDF값이 높아지는 특징이 있다.\n",
    "- 이러한 특징을 이용해서 모든 문서에 나타나는 흔한 단어들을 걸러내며, 특정 단어가 가지는 중요도를 측정하는 데 사용된다.\n",
    "- 한마디로 TF * IDF 값은 특정 단어가 가지는 중요도!\n",
    "- TF(Term Frequency): 단어 빈도\n",
    "   - 해당 문서에서 단어가 나타나는 빈도수\n",
    "   - 문서의 길이가 길면 해당 단어의 실제 중요도와는 상관없이 단어의 빈도수는 증가될 확률이 높다.\n",
    "   - 위의 문제를 해결하기 위해 다음과 같이 표준화 -> (문서에서 단어가 나타나는 빈도수) / (모든 단어가 나타나는 빈도수)\n",
    "- IDF(Inverse Document Frequency): 역문헌 빈도\n",
    "   - 해당 단어의 일반적인 중요도를 나타내는 값\n",
    "   - log( 전체 문서의 수 / 해당 단어가 포함된 문서들의 수 )"
   ]
  },
  {
   "cell_type": "code",
   "execution_count": 324,
   "metadata": {
    "collapsed": true
   },
   "outputs": [],
   "source": [
    "from sklearn.feature_extraction.text import TfidfTransformer    # Tf * idf 구할 때"
   ]
  },
  {
   "cell_type": "code",
   "execution_count": 325,
   "metadata": {
    "scrolled": false
   },
   "outputs": [
    {
     "name": "stdout",
     "output_type": "stream",
     "text": [
      "uiot                 0.6073192313452243\n",
      "아들과딸                 0.26650524890303295\n",
      "네콘                   0.25811253581170945\n",
      "가스잠그미                0.11035246096297725\n",
      "브라보라이프               0.10438299288746042\n",
      "척수장애인                0.08042636985437325\n",
      "tomatalk             0.07354256317071074\n",
      "원빈                   0.06965478096329271\n",
      "cloi                 0.06359784348822377\n",
      "첼로                   0.05602667164438761\n",
      "아들과                  0.05299820290685314\n",
      "전기장판                 0.04996973416931868\n",
      "브라우니                 0.04845549980055145\n",
      "매스노트                 0.047446814948845645\n",
      "cic                  0.046941265431784215\n",
      "목돈                   0.046941265431784215\n",
      "이원준                  0.04675951735719375\n",
      "중학                   0.04542703106301699\n",
      "진에어                  0.04542703106301699\n",
      "aiaas                0.044889136662906\n",
      "\n",
      "오라떼                  0.1497641790559481\n",
      "임채무                  0.12302057565310023\n",
      "높임말                  0.11767185497253066\n",
      "동래                   0.0990065546331874\n",
      "삼행시                  0.09559253550790507\n",
      "제이지                  0.09559253550790507\n",
      "잠실점                  0.07852243988149345\n",
      "부농                   0.07488208952797405\n",
      "쇼트트랙                 0.0716944016309288\n",
      "울트라북                 0.0716944016309288\n",
      "웰컴저축은행               0.06747188513023415\n",
      "aiy                  0.06486636338036415\n",
      "vaio                 0.06486636338036415\n",
      "미분                   0.06486636338036415\n",
      "이상네트웍스               0.06486636338036415\n",
      "전매                   0.06486636338036415\n",
      "당고                   0.0641846481668349\n",
      "돈키호테                 0.06325489230959451\n",
      "flir                 0.06145234425508182\n",
      "제재                   0.06145234425508182\n",
      "\n",
      "oktv                 0.8207523698904091\n",
      "교동도                  0.14798982989022474\n",
      "바바북                  0.12661352112830337\n",
      "홈스쿨                  0.11020332332288102\n",
      "ollehtv              0.10359288092315731\n",
      "otv                  0.1018068796411377\n",
      "바바펜                  0.08221657216123597\n",
      "ots                  0.05590726906964046\n",
      "메를로랩                 0.05444921146711935\n",
      "itu                  0.053152801670283176\n",
      "교동제비집                0.0509742747399663\n",
      "pvr                  0.04604128041029214\n",
      "아이클레보                0.04408132932915241\n",
      "김진갑                  0.042752617523842705\n",
      "skylife              0.041108286080617985\n",
      "바바키트                 0.041108286080617985\n",
      "밸런타인데이               0.04093266294849866\n",
      "녹양역                  0.039463954637393266\n",
      "대교동화                 0.039463954637393266\n",
      "tweet                0.037819623194168546\n",
      "\n",
      "아트리체                 0.5450225097421771\n",
      "청계                   0.39493358723419797\n",
      "우성건영                 0.22954267526485886\n",
      "fpga                 0.07462963826345165\n",
      "분대                   0.06953683928728542\n",
      "박일환                  0.06897587778894773\n",
      "신설동역                 0.06897587778894773\n",
      "nemo                 0.06423525292415495\n",
      "자일링스                 0.06332211731444382\n",
      "응모권                  0.06062653084976423\n",
      "게릴라                  0.059929861029741474\n",
      "대천                   0.058799108934840694\n",
      "홍익대학교                0.058799108934840694\n",
      "엄현경                  0.056537604745039126\n",
      "어멈                   0.05616437019357669\n",
      "화백                   0.05616437019357669\n",
      "adc                  0.055406852650138345\n",
      "nsok                 0.055406852650138345\n",
      "이두희                  0.055406852650138345\n",
      "팬츠                   0.05340908670098277\n",
      "\n"
     ]
    }
   ],
   "source": [
    "tfidf_transformer=TfidfTransformer(smooth_idf=True,use_idf=True)        # Tf-idf 가중치를 적용할 수 있도록 변환시켜줌\n",
    "tf_idf_matrix = tfidf_transformer.fit_transform(word_count_vector)\n",
    "\n",
    "feature_names=cv.get_feature_names()\n",
    "\n",
    "dense = tf_idf_matrix.todense()\n",
    "\n",
    "for i in range(len(dense)):\n",
    "    doc = dense[i].tolist()[0]           # dense[i].tolist()는 2차원 list, 예를들면 shape: (1,814)\n",
    "    phrase_scores = [pair for pair in zip(range(0, len(doc)), doc) if pair[1] > 0]      # 0의 값이 아닌것만 모아서 만듦\n",
    "\n",
    "    sorted_phrase_scores = sorted(phrase_scores, key=lambda t: t[1], reverse=True) # sorted(phrase_scores, key=lambda t: t[1] * -1)라고 해도 됨\n",
    "    for phrase, score in [(feature_names[word_id], score) for (word_id, score) in sorted_phrase_scores][:20]:\n",
    "        print('{0: <20} {1}'.format(phrase, score))      # 단어와 단어의 tf-idf 값을 출력\n",
    "    print()\n",
    "    ##### 이 부분은 테스트를 위해서 #####\n",
    "    if i == 3:     \n",
    "        break\n",
    "    ###############################"
   ]
  },
  {
   "cell_type": "markdown",
   "metadata": {},
   "source": [
    "- 추가 \n",
    "   - 클로바\n",
    "     1. 네콘\n",
    "     2. 척수장애인\n",
    "     3. 척수 장애인\n",
    "     4. 가스잠그미\n",
    "     5. 브라보라이프\n",
    "   - 카카오\n",
    "     1. 산타토익\n",
    "     2. 산타 토익\n",
    "     3. qm3 (뭔가 관련있는듯)\n",
    "     4. qm6 (뭔가 관련있는듯)\n",
    "     5. 삼행시\n",
    "   - 기가지니\n",
    "     1. 바바북\n",
    "     2. 바바펜\n",
    "     3. 바바키트\n",
    "     4. 교동 기가 아일랜드\n",
    "     5. 올레tv스카이라이프\n",
    "   - 누구\n",
    "     1. 아트리체 (아파트 관련) \\- '청계' 라는 단어와도 연관(청계 다우 아트리체)\n",
    "     2. qoo(qoo10 관련 사이트 때문에)\n",
    "     3. 범양건영 (아파트 관련)\n",
    "     \n",
    "- 삭제\n",
    "   - 클로바\n",
    "       1. li\n",
    "       2. txt\n",
    "       3. 유조\n",
    "       4. 엠게임\n",
    "       5. date\n",
    "   - 카카오\n",
    "       6. 조수용 (카카오 공동 대표)\n",
    "       7. 배틀필드 (관련성이 전혀 없는 것 같은데 자꾸 나옴)\n",
    "       8. 이석영 (카카오 AI 서비스 팀장)\n",
    "       9. rx (관련없어보임... 근데 많이 나오긴 함)\n",
    "       10. 콰르텟 (전혀 관련없는 \"카카오프렌즈 콰르텟 강남점에서 라이언에그번을 맛보다\" 이런거 많이 나옴)\n",
    "       \n",
    "- 렘런트유노마켓 blog.naver.com/ppang7942/ 블로그 데이터 삭제하고싶다."
   ]
  },
  {
   "cell_type": "markdown",
   "metadata": {},
   "source": [
    "# <br>\n",
    "## 부정 document"
   ]
  },
  {
   "cell_type": "markdown",
   "metadata": {},
   "source": [
    "<br/><br/>\n",
    "### POS tagging하기"
   ]
  },
  {
   "cell_type": "markdown",
   "metadata": {},
   "source": [
    "#### 1.  Komoran 사용"
   ]
  },
  {
   "cell_type": "code",
   "execution_count": 131,
   "metadata": {},
   "outputs": [
    {
     "data": {
      "text/plain": [
       "[('척수', 'NNP'), ('장애인', 'NNP')]"
      ]
     },
     "execution_count": 131,
     "metadata": {},
     "output_type": "execute_result"
    }
   ],
   "source": [
    "komoran.pos(\"척수 장애인\")"
   ]
  },
  {
   "cell_type": "code",
   "execution_count": 132,
   "metadata": {},
   "outputs": [
    {
     "data": {
      "text/plain": [
       "[('척수', 'NNP'), ('장애인', 'NNP')]"
      ]
     },
     "execution_count": 132,
     "metadata": {},
     "output_type": "execute_result"
    }
   ],
   "source": [
    "komoran.pos(\"척수장애인\")"
   ]
  },
  {
   "cell_type": "code",
   "execution_count": 86,
   "metadata": {},
   "outputs": [
    {
     "data": {
      "text/plain": [
       "[('무드', 'NNG'), ('등', 'NNB')]"
      ]
     },
     "execution_count": 86,
     "metadata": {},
     "output_type": "execute_result"
    }
   ],
   "source": [
    "komoran.pos(\"무드등\")"
   ]
  },
  {
   "cell_type": "code",
   "execution_count": 123,
   "metadata": {},
   "outputs": [
    {
     "data": {
      "text/plain": [
       "[('반려', 'NNG'), ('견', 'NNG')]"
      ]
     },
     "execution_count": 123,
     "metadata": {},
     "output_type": "execute_result"
    }
   ],
   "source": [
    "komoran.pos(\"반려견\") "
   ]
  },
  {
   "cell_type": "code",
   "execution_count": 124,
   "metadata": {},
   "outputs": [
    {
     "data": {
      "text/plain": [
       "[('샤오미', 'NNP')]"
      ]
     },
     "execution_count": 124,
     "metadata": {},
     "output_type": "execute_result"
    }
   ],
   "source": [
    "komoran.pos(\"샤오미\")"
   ]
  },
  {
   "cell_type": "code",
   "execution_count": 51,
   "metadata": {},
   "outputs": [
    {
     "data": {
      "text/plain": [
       "[('척수', 'NNP'), ('장애인', 'NNP')]"
      ]
     },
     "execution_count": 51,
     "metadata": {},
     "output_type": "execute_result"
    }
   ],
   "source": [
    "komoran.pos(\"척수 장애인\") "
   ]
  },
  {
   "cell_type": "code",
   "execution_count": 105,
   "metadata": {},
   "outputs": [
    {
     "data": {
      "text/plain": [
       "[('nugu', 'SL')]"
      ]
     },
     "execution_count": 105,
     "metadata": {},
     "output_type": "execute_result"
    }
   ],
   "source": [
    "komoran.pos(\"nugu\")"
   ]
  },
  {
   "cell_type": "code",
   "execution_count": 122,
   "metadata": {},
   "outputs": [
    {
     "data": {
      "text/plain": [
       "[('line out', 'NNG')]"
      ]
     },
     "execution_count": 122,
     "metadata": {},
     "output_type": "execute_result"
    }
   ],
   "source": [
    "komoran.pos(\"line out\") "
   ]
  },
  {
   "cell_type": "code",
   "execution_count": 130,
   "metadata": {},
   "outputs": [
    {
     "data": {
      "text/plain": [
       "[('null', 'SL')]"
      ]
     },
     "execution_count": 130,
     "metadata": {},
     "output_type": "execute_result"
    }
   ],
   "source": [
    "komoran.pos(\"null\")"
   ]
  },
  {
   "cell_type": "code",
   "execution_count": 126,
   "metadata": {},
   "outputs": [
    {
     "data": {
      "text/plain": [
       "[('스포', 'NNP'), ('티', 'NNG'), ('지', 'NNB')]"
      ]
     },
     "execution_count": 126,
     "metadata": {},
     "output_type": "execute_result"
    }
   ],
   "source": [
    "komoran.pos(\"스포티지\")"
   ]
  },
  {
   "cell_type": "code",
   "execution_count": 195,
   "metadata": {},
   "outputs": [
    {
     "data": {
      "text/plain": [
       "[('메를로랩', 'NNG')]"
      ]
     },
     "execution_count": 195,
     "metadata": {},
     "output_type": "execute_result"
    }
   ],
   "source": [
    "komoran.pos(\"메를로랩\")"
   ]
  },
  {
   "cell_type": "code",
   "execution_count": 61,
   "metadata": {},
   "outputs": [
    {
     "data": {
      "text/plain": [
       "[('올레', 'NNP'), ('tv', 'SL'), ('스카이', 'NNP'), ('라이프', 'NNP')]"
      ]
     },
     "execution_count": 61,
     "metadata": {},
     "output_type": "execute_result"
    }
   ],
   "source": [
    "komoran.pos(\"올레tv스카이라이프\")"
   ]
  },
  {
   "cell_type": "code",
   "execution_count": 87,
   "metadata": {
    "collapsed": true
   },
   "outputs": [],
   "source": [
    "from konlpy.tag import Komoran"
   ]
  },
  {
   "cell_type": "code",
   "execution_count": 327,
   "metadata": {
    "collapsed": true
   },
   "outputs": [],
   "source": [
    "komoran = Komoran(userdic='./unregistered.txt')"
   ]
  },
  {
   "cell_type": "code",
   "execution_count": 328,
   "metadata": {
    "collapsed": true
   },
   "outputs": [],
   "source": [
    "import re\n",
    "\n",
    "# 명사와 외래어만 뽑아내기위한 정규표현식\n",
    "p = re.compile('NN.*|SL')"
   ]
  },
  {
   "cell_type": "markdown",
   "metadata": {},
   "source": [
    "results = []\n",
    "for i, brand_text in enumerate(positive_text):\n",
    "    pos_tagging_list = list(map(komoran.pos, brand_text))\n",
    "    print(\"pos tagging -\", i)\n",
    "    \n",
    "    docs = []\n",
    "    for doc in pos_tagging_list:\n",
    "        want_words = []\n",
    "        for word, pos in doc:\n",
    "            if p.match(pos):\n",
    "                want_words.append(word)\n",
    "        docs.append(want_words)\n",
    "    print(\"noun extract -\", i)\n",
    "    \n",
    "    results.append(sum(docs, []))\n",
    "    print(\"finish -\", i)"
   ]
  },
  {
   "cell_type": "code",
   "execution_count": 329,
   "metadata": {},
   "outputs": [
    {
     "name": "stdout",
     "output_type": "stream",
     "text": [
      "pos tagging - 0\n",
      "noun extract - 0\n",
      "finish - 0\n",
      "pos tagging - 1\n",
      "noun extract - 1\n",
      "finish - 1\n",
      "pos tagging - 2\n",
      "noun extract - 2\n",
      "finish - 2\n",
      "pos tagging - 3\n",
      "noun extract - 3\n",
      "finish - 3\n"
     ]
    }
   ],
   "source": [
    "results = []\n",
    "for i, brand_text in enumerate(negative_text):\n",
    "    pos_tagging_list = list(map(komoran.pos, brand_text))\n",
    "    print(\"pos tagging -\", i)\n",
    "\n",
    "    docs = []\n",
    "    for doc in pos_tagging_list:\n",
    "        want_words = [word for word, pos in doc if p.match(pos)]         \n",
    "        docs.append(want_words)\n",
    "    print(\"noun extract -\", i)\n",
    "    \n",
    "    results.append(sum(docs, []))\n",
    "    print(\"finish -\", i)"
   ]
  },
  {
   "cell_type": "markdown",
   "metadata": {},
   "source": [
    "### pickle로 일단 저장"
   ]
  },
  {
   "cell_type": "code",
   "execution_count": 330,
   "metadata": {
    "collapsed": true
   },
   "outputs": [],
   "source": [
    "import pickle\n",
    "pickle.dump(results, open('tfidf_neg_list3.pickle', \"wb\"))"
   ]
  },
  {
   "cell_type": "code",
   "execution_count": 331,
   "metadata": {
    "collapsed": true
   },
   "outputs": [],
   "source": [
    "load_result2 = pickle.load(open('tfidf_neg_list3.pickle', \"rb\"))\n",
    "results = load_result2"
   ]
  },
  {
   "cell_type": "markdown",
   "metadata": {},
   "source": [
    "<br/><br/>\n",
    "### stopword 제거"
   ]
  },
  {
   "cell_type": "code",
   "execution_count": 332,
   "metadata": {
    "collapsed": true
   },
   "outputs": [],
   "source": [
    "stopwords = [line.strip() for line in open('./stopwordsKor.txt', encoding='utf-8')]"
   ]
  },
  {
   "cell_type": "markdown",
   "metadata": {
    "collapsed": true
   },
   "source": [
    "final_docs = []\n",
    "for doc in results:\n",
    "    unique_NN_words = set(doc)\n",
    "    final_NN_words = doc\n",
    "    \n",
    "    for word in unique_NN_words:\n",
    "        if word in stopwords:\n",
    "            while word in final_NN_words: final_NN_words.remove(word)\n",
    "    final_docs.append(final_NN_words)"
   ]
  },
  {
   "cell_type": "markdown",
   "metadata": {},
   "source": [
    "from tqdm import tqdm_notebook\n",
    "stopword_dict = {}\n",
    "for s_word in stopwords:\n",
    "    stopword_dict[s_word] = 1\n",
    "\n",
    "final_docs = []\n",
    "for i, doc in enumerate(results):\n",
    "    unique_NN_words = set(doc)\n",
    "    final_NN_words = doc\n",
    "    \n",
    "    for word in tqdm_notebook(unique_NN_words):\n",
    "        if stopword_dict.get(word):\n",
    "            while True:\n",
    "                try:\n",
    "                    final_NN_words.remove(word)\n",
    "                except ValueError:\n",
    "                    break\n",
    "    print(\"finish -\", i)"
   ]
  },
  {
   "cell_type": "code",
   "execution_count": 333,
   "metadata": {},
   "outputs": [
    {
     "name": "stderr",
     "output_type": "stream",
     "text": [
      "Widget Javascript not detected.  It may not be installed or enabled properly.\n"
     ]
    },
    {
     "data": {
      "application/vnd.jupyter.widget-view+json": {
       "model_id": "bf135821ba034603b7b2442c49aba5c7"
      }
     },
     "metadata": {},
     "output_type": "display_data"
    },
    {
     "name": "stderr",
     "output_type": "stream",
     "text": [
      "Widget Javascript not detected.  It may not be installed or enabled properly.\n"
     ]
    },
    {
     "data": {
      "application/vnd.jupyter.widget-view+json": {
       "model_id": "6b6317d473344983b6d27b6c4eed4a59"
      }
     },
     "metadata": {},
     "output_type": "display_data"
    },
    {
     "name": "stderr",
     "output_type": "stream",
     "text": [
      "Widget Javascript not detected.  It may not be installed or enabled properly.\n"
     ]
    },
    {
     "data": {
      "application/vnd.jupyter.widget-view+json": {
       "model_id": "05583dc07aa5477ba5061e1fe38470f8"
      }
     },
     "metadata": {},
     "output_type": "display_data"
    },
    {
     "name": "stderr",
     "output_type": "stream",
     "text": [
      "Widget Javascript not detected.  It may not be installed or enabled properly.\n"
     ]
    },
    {
     "data": {
      "application/vnd.jupyter.widget-view+json": {
       "model_id": "00a2451a77a34bc5a38fc7aec17c84be"
      }
     },
     "metadata": {},
     "output_type": "display_data"
    }
   ],
   "source": [
    "from tqdm import tqdm_notebook\n",
    "stopword_dict = {}\n",
    "for s_word in stopwords:\n",
    "    stopword_dict[s_word] = 1\n",
    "\n",
    "final_docs = []\n",
    "for i, doc in enumerate(results):\n",
    "    unique_NN_words = set(doc)\n",
    "    final_NN_words = doc\n",
    "    \n",
    "    for word in tqdm_notebook(unique_NN_words):\n",
    "        if stopword_dict.get(word):\n",
    "            final_NN_words = list(filter(lambda x: x!= word, final_NN_words))\n",
    "    final_docs.append(final_NN_words)\n",
    "    #print(\"finish -\", i)"
   ]
  },
  {
   "cell_type": "markdown",
   "metadata": {},
   "source": [
    "<br/><br/>\n",
    "### document별 단어들을 각각의 document로 바꾸기"
   ]
  },
  {
   "cell_type": "code",
   "execution_count": 334,
   "metadata": {
    "collapsed": true
   },
   "outputs": [],
   "source": [
    "documents = []\n",
    "for doc_words in final_docs:\n",
    "    document = \" \".join(doc_words)\n",
    "    documents.append(document)"
   ]
  },
  {
   "cell_type": "code",
   "execution_count": 335,
   "metadata": {},
   "outputs": [
    {
     "data": {
      "text/plain": [
       "'유선 래 연결 와이파이 연결 사용 음성 인식 스피커 일상 차지 역할 흐름 가운데 국내 업체 세계 시장 맥 지적 전문가 국내 업체 시장 확대 이유 길 지적 글 사기 기본 사례 네이버 카카오 날 하루 수준 카메라 인식 로그인 질문 마찬가지 대답 네이버 음악 듣기 결제 상태 지원 별도 이퀄라이저 설정 지하철역 자동차 추천 경로 검색 비교 효과 결과 근처 분식집 '"
      ]
     },
     "execution_count": 335,
     "metadata": {},
     "output_type": "execute_result"
    }
   ],
   "source": [
    "documents[0][:200]"
   ]
  },
  {
   "cell_type": "markdown",
   "metadata": {},
   "source": [
    "<br/><br/>\n",
    "### 벡터화 하기"
   ]
  },
  {
   "cell_type": "code",
   "execution_count": 336,
   "metadata": {
    "collapsed": true
   },
   "outputs": [],
   "source": [
    "from sklearn.feature_extraction.text import CountVectorizer     # 벡터 수 카운트 할 때"
   ]
  },
  {
   "cell_type": "code",
   "execution_count": 337,
   "metadata": {},
   "outputs": [
    {
     "name": "stderr",
     "output_type": "stream",
     "text": [
      "/Users/Taewoo/anaconda2/envs/python36/lib/python3.6/site-packages/sklearn/feature_extraction/text.py:301: UserWarning: Your stop_words may be inconsistent with your preprocessing. Tokenizing the stop words generated tokens ['_flash_removecallback', 'gyste7gb', 'kbs', 'mbc뉴스', 'news1', 'sbs', 'sbs화면캡처무기수', '무단'] not in stop_words.\n",
      "  'stop_words.' % sorted(inconsistent))\n"
     ]
    }
   ],
   "source": [
    "cv=CountVectorizer(max_df=0.85, max_features=10000, stop_words=stopwords)     \n",
    "# 문서 집합에서 단어 토큰을 생성하고 각 단어의 수를 세어 BOW(Bag Of Words) 인코딩한 벡터를 만든다.\n",
    "# max_df=0.85란 말은 documents들에서 85%이상 나타나는 토큰(단어)를 무시하라는 것, \n",
    "# max_df=25란 말은 documents들에서 25번 이상 나타나는 토큰(단어)를 무시하라는 것,\n",
    "# maximum 단어의 개수를 1만개로 정함 - 빈도수가 높은 단어 순으로 1만개를 자름(메모리 에러 안나려고)\n",
    "# min_df=1, ngram_range=(1,1) 등은 default 값임  \n",
    "\n",
    "word_count_vector=cv.fit_transform(documents)      # vectorize된 word_count_vector\n",
    "feature_names=cv.get_feature_names()"
   ]
  },
  {
   "cell_type": "code",
   "execution_count": 338,
   "metadata": {},
   "outputs": [
    {
     "data": {
      "text/plain": [
       "9781"
      ]
     },
     "execution_count": 338,
     "metadata": {},
     "output_type": "execute_result"
    }
   ],
   "source": [
    "len(cv.vocabulary_)      # 위에서 max_features를 10000으로 주었지만 단어 수가 그 이하였음"
   ]
  },
  {
   "cell_type": "code",
   "execution_count": 339,
   "metadata": {
    "scrolled": true
   },
   "outputs": [
    {
     "data": {
      "text/plain": [
       "{'듣기': 2906,\n",
       " '이퀄라이저': 6941,\n",
       " '지하철역': 7925,\n",
       " '마인': 3246,\n",
       " '자비스': 7145,\n",
       " '중반': 7800,\n",
       " '실현': 5546,\n",
       " '생태계': 4737,\n",
       " '번성': 3993,\n",
       " '도태': 2761,\n",
       " '시범': 5372,\n",
       " '여원': 6048,\n",
       " '격화': 1408,\n",
       " '조짐': 7657,\n",
       " '진출': 7978,\n",
       " '세컨드': 4934,\n",
       " '메신저': 3413,\n",
       " '계좌': 1488,\n",
       " '개설': 1301,\n",
       " '이모티콘': 6844,\n",
       " '곳도': 1617,\n",
       " '린지': 3186,\n",
       " '전만': 7395,\n",
       " '경쟁자': 1456,\n",
       " '중립': 7797,\n",
       " '선상': 4821,\n",
       " '생물': 4719,\n",
       " 'ceo': 132,\n",
       " '주년': 7705,\n",
       " '소회': 5027,\n",
       " '시너지': 5348,\n",
       " '내부': 2267,\n",
       " '논의': 2364,\n",
       " '액션': 5815,\n",
       " '완결': 6354,\n",
       " '베스트': 4033,\n",
       " '브레인': 4354,\n",
       " '노동부': 2320,\n",
       " '권리': 1876,\n",
       " '다라': 2454,\n",
       " '베타서비스': 4043,\n",
       " '제지': 7609,\n",
       " '하루하루': 9240,\n",
       " '실무': 5520,\n",
       " '시각': 5329,\n",
       " '시행착오': 5421,\n",
       " '웹툰': 6591,\n",
       " '회화': 9712,\n",
       " '감안': 1229,\n",
       " '매니저': 3341,\n",
       " '역삼동': 6069,\n",
       " '데모': 2688,\n",
       " '세션': 4923,\n",
       " '테크니컬': 8740,\n",
       " '전산언어학': 7406,\n",
       " '자인': 7164,\n",
       " '최현정': 8281,\n",
       " '연구원': 6088,\n",
       " '킹스': 8634,\n",
       " '골든': 1601,\n",
       " '서클': 4790,\n",
       " '범죄도시': 4009,\n",
       " '제품군': 7611,\n",
       " '만회': 3298,\n",
       " '라인업': 3002,\n",
       " '악의': 5701,\n",
       " '점수': 7456,\n",
       " '필터링': 9213,\n",
       " '진미': 7961,\n",
       " '열흘': 6162,\n",
       " 'amp': 25,\n",
       " '상거래': 4642,\n",
       " '전환율': 7442,\n",
       " '격차': 1407,\n",
       " '아니야': 5611,\n",
       " '간단명료': 1186,\n",
       " '클라우드': 8605,\n",
       " '컴퓨팅': 8503,\n",
       " '축적': 8308,\n",
       " '건수': 1366,\n",
       " '정형': 7563,\n",
       " '센서': 4946,\n",
       " '시행': 5420,\n",
       " '소형': 5024,\n",
       " '연속': 6111,\n",
       " '성적': 4883,\n",
       " '구사': 1797,\n",
       " '은어': 6731,\n",
       " '비속어': 4404,\n",
       " '어린아이': 5905,\n",
       " '이해도': 6956,\n",
       " '차원': 8050,\n",
       " '실생활': 5526,\n",
       " '부인': 4238,\n",
       " '융통': 6725,\n",
       " '시간문제': 5332,\n",
       " '연극': 6091,\n",
       " '티켓': 8873,\n",
       " '쏜다': 5589,\n",
       " '견제': 1413,\n",
       " '니혼게이자이신문': 2437,\n",
       " '재팬': 7312,\n",
       " '신제품': 5495,\n",
       " '이례': 6834,\n",
       " '머니': 3378,\n",
       " 'exid': 259,\n",
       " '심술': 5556,\n",
       " 'yes': 1068,\n",
       " 'yeah': 1066,\n",
       " '수초': 5164,\n",
       " '간의': 1194,\n",
       " '맥락': 3366,\n",
       " '스노우': 5218,\n",
       " '캐럴': 8450,\n",
       " '카르': 8412,\n",
       " '토도': 8754,\n",
       " '전술': 7410,\n",
       " '스페인': 5288,\n",
       " '연합군': 6136,\n",
       " '속사정': 5032,\n",
       " '총살': 8261,\n",
       " '총검': 8256,\n",
       " '오은영': 6294,\n",
       " '박사': 3771,\n",
       " '육아': 6710,\n",
       " '한국인': 9308,\n",
       " '파급': 8884,\n",
       " '공산': 1638,\n",
       " '집계': 7996,\n",
       " '매도': 3342,\n",
       " '반박': 3804,\n",
       " '이해진': 6959,\n",
       " '의장': 6784,\n",
       " '살아남기': 4613,\n",
       " '자국': 7124,\n",
       " '국내외': 1832,\n",
       " '역차별': 6075,\n",
       " '다국적': 2444,\n",
       " '투명': 8809,\n",
       " '납부': 2249,\n",
       " '선발': 4816,\n",
       " '주자': 7743,\n",
       " '꼬리표': 2146,\n",
       " '회피': 9711,\n",
       " '국정': 1853,\n",
       " '액수': 5816,\n",
       " '커튼': 8486,\n",
       " '가습기': 1134,\n",
       " '통신업': 8788,\n",
       " '돌입': 2791,\n",
       " '태반': 8699,\n",
       " '자급': 7126,\n",
       " '유통망': 6690,\n",
       " '붕괴': 4342,\n",
       " '통신비': 8786,\n",
       " '아이콘': 5666,\n",
       " '최다': 8268,\n",
       " '거래소': 1332,\n",
       " 'kmspico': 468,\n",
       " '악성': 5696,\n",
       " '승모': 5318,\n",
       " '외숙모': 6388,\n",
       " '공항': 1669,\n",
       " '공황': 1673,\n",
       " '네티즌': 2308,\n",
       " '사이에서': 4547,\n",
       " '맞춤법': 3334,\n",
       " '파괴': 8882,\n",
       " '동아': 2834,\n",
       " '이상우': 6864,\n",
       " '단독': 2503,\n",
       " '슈와': 5209,\n",
       " '재테크': 7309,\n",
       " '총집결': 8264,\n",
       " '화도': 9631,\n",
       " '걸음': 1377,\n",
       " 'ma': 523,\n",
       " '연간': 6078,\n",
       " '명도': 3451,\n",
       " '지장': 7905,\n",
       " '통신비밀보호법': 8787,\n",
       " '바이오': 3761,\n",
       " '가이드라인': 1153,\n",
       " '근거': 1939,\n",
       " '식별': 5428,\n",
       " '개시': 1307,\n",
       " '구매욕': 1792,\n",
       " '현행법': 9535,\n",
       " '축제': 8309,\n",
       " '현장': 9529,\n",
       " '잠자리': 7213,\n",
       " '호칭': 9591,\n",
       " '정우성': 7527,\n",
       " '초가': 8221,\n",
       " '멸종': 3445,\n",
       " '벙어리': 4025,\n",
       " '웹브라우저': 6590,\n",
       " 'ip': 415,\n",
       " '방문자': 3883,\n",
       " '트럼프': 8832,\n",
       " '경기장': 1435,\n",
       " '환승': 9671,\n",
       " '셔틀버스': 4961,\n",
       " '종목': 7677,\n",
       " '선수': 4825,\n",
       " '올림픽': 6333,\n",
       " '하이라이트': 9265,\n",
       " '백과사전': 3949,\n",
       " '평창': 9020,\n",
       " '동계': 2802,\n",
       " '서울까지': 4773,\n",
       " '필립스': 9207,\n",
       " '라이팅': 3001,\n",
       " '사랑합니다': 4492,\n",
       " '중국어': 7788,\n",
       " '학습량': 9286,\n",
       " '지난번': 7860,\n",
       " '지진': 7912,\n",
       " '새벽': 4694,\n",
       " '당사자': 2561,\n",
       " '토론': 8756,\n",
       " '불평': 4334,\n",
       " '개인화': 1311,\n",
       " '순항': 5193,\n",
       " '선거구': 4802,\n",
       " '늑장': 2417,\n",
       " '오명': 6265,\n",
       " '지방': 7875,\n",
       " '광역': 1741,\n",
       " '기초': 2056,\n",
       " '정수': 7516,\n",
       " '조정': 7653,\n",
       " '공직': 1661,\n",
       " '선거법': 4803,\n",
       " '개정안': 1313,\n",
       " '문턱': 3617,\n",
       " '출마자': 8321,\n",
       " '차질': 8055,\n",
       " '여야': 6045,\n",
       " '현영': 9526,\n",
       " '분유': 4292,\n",
       " '겨냥': 1401,\n",
       " '가루': 1109,\n",
       " '기저귀': 2047,\n",
       " '이곳저곳': 6799,\n",
       " '증가세': 7833,\n",
       " '발굴': 3829,\n",
       " '실적': 5535,\n",
       " '둔화': 2880,\n",
       " '산타토익': 4600,\n",
       " '태부족': 8700,\n",
       " '웃어봐': 6519,\n",
       " '투표수': 8820,\n",
       " '한겨레': 9298,\n",
       " '광범위': 1736,\n",
       " '소화': 5026,\n",
       " '약관': 5851,\n",
       " '픽사': 9197,\n",
       " '베이': 4037,\n",
       " '파문': 8898,\n",
       " '파기': 8885,\n",
       " '시민': 5366,\n",
       " '검은사막': 1382,\n",
       " '점령': 7454,\n",
       " '후발': 9732,\n",
       " '핸디캡': 9452,\n",
       " '관측': 1727,\n",
       " '한글판': 9317,\n",
       " '맞대응': 3327,\n",
       " '태세': 8703,\n",
       " '임박': 7076,\n",
       " '고군분투': 1496,\n",
       " '뮤지컬': 3646,\n",
       " '배우': 3937,\n",
       " '노랫말': 2326,\n",
       " '넘버': 2295,\n",
       " 'impossible': 400,\n",
       " 'dream': 210,\n",
       " '통계청': 8777,\n",
       " 'kosis': 471,\n",
       " '비염': 4410,\n",
       " '레이스': 3050,\n",
       " '미용실': 3685,\n",
       " '항구': 9403,\n",
       " '수수료': 5128,\n",
       " '폭우': 9074,\n",
       " '동원': 2838,\n",
       " '참치': 8081,\n",
       " '생도': 4711,\n",
       " '상회': 4689,\n",
       " '소속': 4994,\n",
       " '황치열': 9692,\n",
       " '컴백': 8500,\n",
       " 'bb': 69,\n",
       " '동사': 2825,\n",
       " '컨센서스': 8491,\n",
       " '매수': 3347,\n",
       " '직전': 7944,\n",
       " '한차례': 9361,\n",
       " '하향': 9275,\n",
       " '상향': 4685,\n",
       " '전고': 7373,\n",
       " '길드': 2077,\n",
       " '대장': 2635,\n",
       " '줌인터넷': 7775,\n",
       " '인턴십': 7018,\n",
       " 'zum': 1079,\n",
       " '기획자': 2068,\n",
       " '인턴': 7017,\n",
       " '사원': 4541,\n",
       " '모집': 3511,\n",
       " '피처': 9188,\n",
       " '국립전파연구원': 1836,\n",
       " '물음표': 3638,\n",
       " '세뇌': 4911,\n",
       " '동물': 2819,\n",
       " '채팅': 8115,\n",
       " '분출': 4296,\n",
       " '참여자': 8079,\n",
       " '명가': 3447,\n",
       " '우승': 6470,\n",
       " '롯데닷컴': 3107,\n",
       " '한국말': 9305,\n",
       " 'mt': 573,\n",
       " '돌파구': 2795,\n",
       " '마켓': 3256,\n",
       " '컬리': 8496,\n",
       " '출범': 8323,\n",
       " '유통업': 6691,\n",
       " '영역': 6184,\n",
       " '전환기': 7441,\n",
       " '킬러': 8631,\n",
       " '황성진': 9690,\n",
       " '기관': 1995,\n",
       " '한국소비자원': 9306,\n",
       " '몰입': 3534,\n",
       " '동명': 2817,\n",
       " '이인': 6909,\n",
       " '지칭': 7916,\n",
       " '브이': 4366,\n",
       " '라이브': 2997,\n",
       " 'live': 506,\n",
       " '출연': 8328,\n",
       " '방탄소년단': 3909,\n",
       " '지민': 7874,\n",
       " '건의': 1368,\n",
       " '유입': 6678,\n",
       " 'nlp': 608,\n",
       " '의욕': 6780,\n",
       " '대중교통': 2640,\n",
       " '비전': 4419,\n",
       " '유명': 6648,\n",
       " '텀블러': 8724,\n",
       " '인형': 7021,\n",
       " '갖가지': 1279,\n",
       " '군부대': 1862,\n",
       " '시설': 5379,\n",
       " '화제': 9652,\n",
       " '남짓': 2244,\n",
       " 'ktx': 478,\n",
       " '단적': 2518,\n",
       " 'g메일': 340,\n",
       " '이해력': 6957,\n",
       " '만족도': 3292,\n",
       " '가스': 1130,\n",
       " '벨브': 4051,\n",
       " '유기': 6628,\n",
       " '미러링': 3665,\n",
       " '코웨이': 8535,\n",
       " '시선': 5378,\n",
       " '불신': 4325,\n",
       " 'drs': 212,\n",
       " '고무': 1527,\n",
       " '진화': 7982,\n",
       " '표출': 9099,\n",
       " '주유소': 7739,\n",
       " '오랫동안': 6251,\n",
       " '탐색': 8688,\n",
       " '재즈': 7304,\n",
       " '텔레그램': 8744,\n",
       " 'gm': 319,\n",
       " '수입': 5151,\n",
       " '접근성': 7468,\n",
       " '강자': 1273,\n",
       " 'xxx': 1063,\n",
       " '지명': 7872,\n",
       " '목표액': 3528,\n",
       " '연내': 6096,\n",
       " '홍채': 9628,\n",
       " '도용': 2748,\n",
       " '영향력': 6196,\n",
       " '제값': 7567,\n",
       " '집토끼': 8009,\n",
       " '유다': 6634,\n",
       " '불가피': 4304,\n",
       " '문맥': 3601,\n",
       " '도출': 2758,\n",
       " '취급': 8353,\n",
       " '저자': 7342,\n",
       " '평판': 9022,\n",
       " '랭킹': 3021,\n",
       " '패턴': 8970,\n",
       " '골자': 1607,\n",
       " '신설': 5475,\n",
       " 'view': 957,\n",
       " '개편': 1319,\n",
       " '실비': 5523,\n",
       " '청구': 8173,\n",
       " '서치': 4789,\n",
       " '김상범': 2091,\n",
       " '전개': 7369,\n",
       " '게재': 1400,\n",
       " '행위': 9462,\n",
       " 'my': 583,\n",
       " '길고양이': 2075,\n",
       " '여성': 6040,\n",
       " '가전제품': 1158,\n",
       " '독자': 2772,\n",
       " '엘지': 6012,\n",
       " '속편': 5039,\n",
       " '보일러': 4130,\n",
       " '봉사': 4199,\n",
       " '명예': 3464,\n",
       " '포진': 9053,\n",
       " '경상북도': 1446,\n",
       " '울릉군': 6509,\n",
       " '미현': 3698,\n",
       " '지리': 7870,\n",
       " '승자': 5323,\n",
       " '김연지': 2097,\n",
       " '경계': 1432,\n",
       " 'hey': 360,\n",
       " 'hot': 374,\n",
       " '사재기': 4555,\n",
       " '수상': 5122,\n",
       " 'lg유플러스': 497,\n",
       " '장애인': 7260,\n",
       " '감수': 1225,\n",
       " '이봉': 6851,\n",
       " '우연이': 6474,\n",
       " '선착순': 4834,\n",
       " '수조': 5155,\n",
       " '밤새': 3867,\n",
       " '일례': 7031,\n",
       " '쇼핑카트': 5085,\n",
       " '일라이': 7029,\n",
       " '장애물': 7258,\n",
       " '히스토리': 9773,\n",
       " '준수': 7768,\n",
       " '원본': 6549,\n",
       " '클로': 8613,\n",
       " '유영민': 6668,\n",
       " '과기': 1677,\n",
       " '정통부': 7559,\n",
       " '장관': 7223,\n",
       " '이어': 6890,\n",
       " '방통': 3910,\n",
       " '엇박자': 5965,\n",
       " '청와대': 8186,\n",
       " '자원': 7159,\n",
       " '국산': 1846,\n",
       " '유념': 6630,\n",
       " '김민서': 2086,\n",
       " '촉감': 8252,\n",
       " '비의': 4415,\n",
       " '범인': 4007,\n",
       " '소매': 4985,\n",
       " '감자': 1234,\n",
       " '생원': 4730,\n",
       " '이야기책': 6887,\n",
       " '연예인': 6119,\n",
       " '도서': 2738,\n",
       " 'isbn': 427,\n",
       " '특가': 8842,\n",
       " '서서': 4764,\n",
       " '상위': 4668,\n",
       " '시청자': 5405,\n",
       " 'sk브로드밴드': 790,\n",
       " 'iptv': 422,\n",
       " '근접': 1953,\n",
       " '외출복': 6395,\n",
       " '비결': 4382,\n",
       " '한국정보화진흥원': 9312,\n",
       " 'nia': 606,\n",
       " '논문': 2361,\n",
       " 'eu': 253,\n",
       " '유럽연합': 6640,\n",
       " '민간': 3703,\n",
       " 'rd': 726,\n",
       " '투자가': 8815,\n",
       " '뒷받침': 2887,\n",
       " '인당': 6977,\n",
       " '소득': 4981,\n",
       " '체감': 8198,\n",
       " '양극': 5866,\n",
       " '지목': 7873,\n",
       " '고지': 1572,\n",
       " '프랑스': 9131,\n",
       " '이탈리아': 6943,\n",
       " '워치': 6526,\n",
       " '전화통': 7440,\n",
       " '상대방': 4650,\n",
       " '마블': 3219,\n",
       " '본질': 4188,\n",
       " '피쳐': 9189,\n",
       " '통신업체': 8789,\n",
       " '하현': 9276,\n",
       " '확신': 9664,\n",
       " '내재': 2277,\n",
       " '의존': 6785,\n",
       " '가능성': 1097,\n",
       " '배분': 3925,\n",
       " '낙동강': 2212,\n",
       " '오리아': 6260,\n",
       " '신세': 5476,\n",
       " '오염': 6291,\n",
       " '에어': 5981,\n",
       " 'airvisual': 16,\n",
       " '측정': 8363,\n",
       " '대도시': 2586,\n",
       " '도시': 2741,\n",
       " '구독자': 1781,\n",
       " '형성': 9559,\n",
       " '구별': 1795,\n",
       " '범죄': 4008,\n",
       " '억양': 5935,\n",
       " '원천': 6564,\n",
       " '화상': 9640,\n",
       " '립싱크': 3188,\n",
       " '비음': 4414,\n",
       " '이데일리': 6819,\n",
       " '미애': 3681,\n",
       " '일자': 7054,\n",
       " '출혈': 8342,\n",
       " '부동산': 4214,\n",
       " '거품': 1356,\n",
       " '비상근무': 4401,\n",
       " '최선': 8273,\n",
       " '불감증': 4305,\n",
       " '수위': 5147,\n",
       " '관세': 1716,\n",
       " '위안': 6606,\n",
       " '절하': 7451,\n",
       " '만지': 3293,\n",
       " '환율': 9673,\n",
       " '사설': 4518,\n",
       " '미중': 3689,\n",
       " '무역': 3577,\n",
       " '마찰': 3251,\n",
       " '설주': 4855,\n",
       " '대란': 2590,\n",
       " '뒷수습': 2890,\n",
       " '인민': 6986,\n",
       " '정책': 7553,\n",
       " '이해관계자': 6955,\n",
       " '동네북': 2812,\n",
       " '주의보': 7740,\n",
       " '십상': 5564,\n",
       " '납치': 2252,\n",
       " '감금': 1211,\n",
       " '성폭행': 4892,\n",
       " '과시': 1686,\n",
       " '딜레마': 2942,\n",
       " '대북': 2610,\n",
       " '식량': 5426,\n",
       " '에도': 5968,\n",
       " '비핵화': 4436,\n",
       " '교착': 1765,\n",
       " '고수': 1544,\n",
       " '물가': 3625,\n",
       " '협상': 9544,\n",
       " '우선순위': 6466,\n",
       " '증산': 7840,\n",
       " '타진': 8666,\n",
       " '자산': 7146,\n",
       " '비상': 4400,\n",
       " '포트폴리오': 9065,\n",
       " '집단': 8000,\n",
       " '베팅': 4046,\n",
       " '소송': 4995,\n",
       " '여기저기': 6022,\n",
       " '곡소리': 1591,\n",
       " '뭉칫돈': 3644,\n",
       " '가세': 1127,\n",
       " '버블': 3985,\n",
       " '로펌': 3099,\n",
       " '법무법인': 4014,\n",
       " '대륙': 2595,\n",
       " '도약': 2745,\n",
       " '가업': 1142,\n",
       " '승계': 5315,\n",
       " '오지': 6301,\n",
       " '축복': 8304,\n",
       " '결집': 1424,\n",
       " '병행': 4090,\n",
       " '회담': 9696,\n",
       " '황교안': 9685,\n",
       " '김성식': 2095,\n",
       " '오신환': 6287,\n",
       " '승부': 5319,\n",
       " '손학규': 5059,\n",
       " '운명': 6494,\n",
       " '민주당': 3712,\n",
       " '중대': 7792,\n",
       " '지대': 7863,\n",
       " '신당': 5452,\n",
       " '최저임금': 8279,\n",
       " '재계': 7282,\n",
       " 'oecd': 632,\n",
       " '노동': 2318,\n",
       " '위월': 6609,\n",
       " '수출': 5166,\n",
       " '마이너스': 3241,\n",
       " '반도체': 3796,\n",
       " '어부': 5914,\n",
       " '동산': 2826,\n",
       " '한파': 9367,\n",
       " '가계': 1085,\n",
       " '법정': 4020,\n",
       " '아시아나항공': 5653,\n",
       " '입찰': 7113,\n",
       " '공고': 1620,\n",
       " '종규': 7675,\n",
       " '용병': 6440,\n",
       " '빅데이터': 4438,\n",
       " '삼성카드': 4630,\n",
       " '육박': 6706,\n",
       " 'ms': 570,\n",
       " '의기투합': 6765,\n",
       " '정호': 7564,\n",
       " '승부수': 5320,\n",
       " '한진': 9358,\n",
       " '공정위': 1655,\n",
       " '차기': 8034,\n",
       " '총수': 8262,\n",
       " '조원태': 7648,\n",
       " '미달': 3659,\n",
       " '현대': 9511,\n",
       " '상여금': 4664,\n",
       " '대우조선해양': 2628,\n",
       " '노사': 2337,\n",
       " '단협': 2527,\n",
       " '교섭': 1759,\n",
       " '기아': 2029,\n",
       " '사내': 4484,\n",
       " '스타트': 5253,\n",
       " '메디톡스': 3404,\n",
       " '대웅제약': 2629,\n",
       " '보톡스': 4140,\n",
       " 'lgu': 496,\n",
       " '광선': 1737,\n",
       " '홈쇼핑': 9617,\n",
       " '옛말': 6233,\n",
       " '삼성물산': 4629,\n",
       " '부문': 4220,\n",
       " '약자': 5858,\n",
       " '본업': 4181,\n",
       " '롯데쇼핑': 3109,\n",
       " '창사': 8092,\n",
       " '풀무': 9109,\n",
       " '주사': 7721,\n",
       " '지배': 7876,\n",
       " '확립': 9662,\n",
       " '가려움': 1106,\n",
       " '보습제': 4119,\n",
       " '달래': 2535,\n",
       " '고혈압': 1588,\n",
       " '체크': 8217,\n",
       " '요시': 6417,\n",
       " '시크': 5409,\n",
       " '초간': 8222,\n",
       " '스트레칭': 5273,\n",
       " '쇼크': 5081,\n",
       " '화학': 9657,\n",
       " '울상': 6514,\n",
       " '회복': 9698,\n",
       " '젤메': 7619,\n",
       " '디톡스': 2937,\n",
       " '분쟁': 4295,\n",
       " '먹구름': 3387,\n",
       " '증권업': 7836,\n",
       " '대어': 2621,\n",
       " '표류': 9087,\n",
       " '분식회계': 4289,\n",
       " '심사': 5555,\n",
       " '감리': 1221,\n",
       " '임상': 7078,\n",
       " '골다공증': 1597,\n",
       " '치료제': 8368,\n",
       " '특허': 8853,\n",
       " '호재': 9588,\n",
       " '이식': 6883,\n",
       " '유상증자': 6658,\n",
       " '전봉준': 7403,\n",
       " '결의': 1422,\n",
       " '김원봉': 2101,\n",
       " '신념': 5451,\n",
       " '주검': 7700,\n",
       " '진실': 7965,\n",
       " '노란빛': 2322,\n",
       " '복수': 4156,\n",
       " '스포츠': 5294,\n",
       " '동갑내기': 2799,\n",
       " '웃음꽃': 6520,\n",
       " '승점': 5325,\n",
       " '프리미어리그': 9148,\n",
       " '시티': 5414,\n",
       " '돈방석': 2780,\n",
       " '피플': 9195,\n",
       " '양형': 5891,\n",
       " '사법': 4509,\n",
       " '건설': 1363,\n",
       " '통한': 8799,\n",
       " '한미글로벌': 9332,\n",
       " '총괄': 8257,\n",
       " '부회장': 4268,\n",
       " '농협': 2381,\n",
       " '상호금융': 4687,\n",
       " '한국투자공사': 9314,\n",
       " 'mou': 565,\n",
       " '인공위성': 6971,\n",
       " 'kaist': 451,\n",
       " '학술': 9285,\n",
       " '마라톤': 3206,\n",
       " '영웅': 6185,\n",
       " '서윤복': 4780,\n",
       " '국립서울현충원': 1835,\n",
       " '안장': 5735,\n",
       " '콩쿠르': 8561,\n",
       " '투어': 8813,\n",
       " '오피니언': 6313,\n",
       " '칼럼': 8445,\n",
       " '사상누각': 4514,\n",
       " '확대경': 9661,\n",
       " '수첩': 5163,\n",
       " '넷마블': 2312,\n",
       " '신작': 5492,\n",
       " '여의도': 6049,\n",
       " '기지개': 2053,\n",
       " '청량리역': 8178,\n",
       " '롯데캐슬': 3112,\n",
       " 'skyl': 786,\n",
       " '양가': 5864,\n",
       " '희소성': 9768,\n",
       " '집값': 7994,\n",
       " '대구': 2573,\n",
       " '지하철': 7923,\n",
       " '죽전역': 7764,\n",
       " '도보': 2735,\n",
       " '주상': 7724,\n",
       " '복합': 4167,\n",
       " 'mba': 536,\n",
       " '입성': 7098,\n",
       " '비즈니스': 4423,\n",
       " '스토리텔링': 5266,\n",
       " '총망라': 8260,\n",
       " '양성': 5875,\n",
       " '무궁무진': 3548,\n",
       " '특화': 8855,\n",
       " '강의': 1272,\n",
       " '공영': 1647,\n",
       " '타협안': 8670,\n",
       " '파업전야': 8907,\n",
       " '타결': 8638,\n",
       " '뇌물': 2384,\n",
       " '김학의': 2119,\n",
       " '구속영장': 1806,\n",
       " '백성': 3959,\n",
       " '눈높이': 2396,\n",
       " '세종대왕': 4931,\n",
       " '동상': 2827,\n",
       " '수렴': 5108,\n",
       " '이름값': 6837,\n",
       " '서울대': 4774,\n",
       " '자녀': 7130,\n",
       " '부실': 4230,\n",
       " '학회': 9294,\n",
       " '참석': 8077,\n",
       " '김종석': 2109,\n",
       " '기상청': 2023,\n",
       " '구모': 1793,\n",
       " '매출액': 3355,\n",
       " '형제': 9561,\n",
       " '아담': 5612,\n",
       " 'wave': 1029,\n",
       " '입수': 7100,\n",
       " '걸림돌': 1376,\n",
       " 'qa': 713,\n",
       " 'olleh': 643,\n",
       " 'giga': 315,\n",
       " '무선랜': 3568,\n",
       " '통장': 8795,\n",
       " '하나에': 9224,\n",
       " '공인인증서': 1652,\n",
       " '하나로': 9223,\n",
       " '젊은이들': 7452,\n",
       " '은행가': 6736,\n",
       " '체크카드': 8219,\n",
       " '아버지': 5639,\n",
       " '입출금': 7116,\n",
       " '출타': 8336,\n",
       " '텔레비': 8745,\n",
       " '고스톱': 1545,\n",
       " '대세': 2617,\n",
       " '대안': 2619,\n",
       " '사드': 4488,\n",
       " '모양새': 3502,\n",
       " '일체': 7060,\n",
       " '슬픔': 5313,\n",
       " '각자': 1179,\n",
       " '중첩': 7822,\n",
       " '활약': 9681,\n",
       " '동맹': 2815,\n",
       " '간첩': 1197,\n",
       " '터미네이터': 8718,\n",
       " '파격': 8879,\n",
       " '트라우마': 8825,\n",
       " '천대': 8134,\n",
       " '완파': 6365,\n",
       " '결재': 1423,\n",
       " 'どうした': 1083,\n",
       " '시타': 5411,\n",
       " '무스': 3571,\n",
       " 'nhn': 604,\n",
       " 'next': 602,\n",
       " 'human': 380,\n",
       " 'network': 598,\n",
       " '복잡계': 4161,\n",
       " 'complex': 152,\n",
       " '지고': 7852,\n",
       " '세계관': 4901,\n",
       " '헤지펀드': 9506,\n",
       " '주연': 7733,\n",
       " '담보': 2550,\n",
       " '공정': 1653,\n",
       " '약점': 5859,\n",
       " '금융인': 1971,\n",
       " '부자': 4240,\n",
       " '중범죄': 7801,\n",
       " '가난': 1095,\n",
       " '경범죄': 1439,\n",
       " '재생산': 7299,\n",
       " '경찰': 1461,\n",
       " '정당화': 7488,\n",
       " '창조': 8098,\n",
       " '독점': 2773,\n",
       " '통제': 8796,\n",
       " '브라더': 4349,\n",
       " '홍수': 9622,\n",
       " '함정': 9384,\n",
       " '유의': 6673,\n",
       " '편향': 9011,\n",
       " '천사': 8139,\n",
       " '악마': 5694,\n",
       " '청력': 8179,\n",
       " '체계': 8201,\n",
       " '노하우': 2351,\n",
       " '장악': 7256,\n",
       " '어른': 5904,\n",
       " '나기': 2172,\n",
       " '원유': 6557,\n",
       " '생산량': 4724,\n",
       " 'bd': 73,\n",
       " '사우디아라비아': 4539,\n",
       " '수출량': 5167,\n",
       " 'opec': 646,\n",
       " '사무총장': 4505,\n",
       " '균형': 1901,\n",
       " '강변': 1261,\n",
       " '전성시대': 7408,\n",
       " '기술적': 2028,\n",
       " '윤리': 6716,\n",
       " 'clova': 144,\n",
       " '소모': 4988,\n",
       " '손잡이': 5054,\n",
       " '장시간': 7249,\n",
       " '배려': 3923,\n",
       " '앙탈': 5781,\n",
       " '의인': 6782,\n",
       " '커플': 8487,\n",
       " '발매': 3837,\n",
       " '되풀이': 2860,\n",
       " '중학교': 7824,\n",
       " '프로그래밍': 9136,\n",
       " '군더더기': 1861,\n",
       " '공산품': 1639,\n",
       " '창출': 8099,\n",
       " '취향저격': 8361,\n",
       " '긴장': 2071,\n",
       " '탕진': 8694,\n",
       " 'speaker': 818,\n",
       " '몰두': 3532,\n",
       " '엘리': 6009,\n",
       " '이별': 6850,\n",
       " '템포': 8747,\n",
       " '외계인': 6380,\n",
       " '지식인': 7887,\n",
       " '필살기': 9208,\n",
       " '가방': 1120,\n",
       " '모음': 3504,\n",
       " '칫솔': 8404,\n",
       " '살균': 4605,\n",
       " '시발': 5370,\n",
       " '리가': 3125,\n",
       " '맥북': 3367,\n",
       " '패드': 8960,\n",
       " '언니네': 5938,\n",
       " '아시': 5650,\n",
       " '이웃': 6901,\n",
       " '세입': 4929,\n",
       " '윤종신': 6720,\n",
       " '신기하': 5448,\n",
       " 'ml': 557,\n",
       " '에펠탑': 5998,\n",
       " '신나': 5450,\n",
       " '설거지': 4841,\n",
       " '집안일': 8004,\n",
       " '페퍼톤스': 8995,\n",
       " 'ready': 730,\n",
       " 'type': 903,\n",
       " '참견': 8074,\n",
       " '문물': 3604,\n",
       " 'ux': 924,\n",
       " '해답': 9413,\n",
       " '풀리': 9108,\n",
       " '간다': 1184,\n",
       " '불시': 4324,\n",
       " '요정': 6422,\n",
       " '도의': 2752,\n",
       " '아이러니': 5657,\n",
       " '티맵': 8861,\n",
       " '겨울왕국': 1403,\n",
       " '외출': 6394,\n",
       " '뉴에이지': 2408,\n",
       " '귀뚜라미': 1886,\n",
       " '얼굴': 5948,\n",
       " '증정': 7846,\n",
       " '통일': 8794,\n",
       " '다나': 2447,\n",
       " '라나': 2974,\n",
       " '무트': 3590,\n",
       " '면포': 3442,\n",
       " '메모': 3408,\n",
       " '부축': 4255,\n",
       " '우측': 6485,\n",
       " '기로': 2009,\n",
       " '첨단': 8162,\n",
       " '부가세': 4203,\n",
       " '홀라당': 9610,\n",
       " '제시카': 7587,\n",
       " '구가': 1776,\n",
       " '기능인': 2002,\n",
       " '보아': 4121,\n",
       " '기온': 2037,\n",
       " '이정재': 6918,\n",
       " '송혜교': 5079,\n",
       " '블랙아웃': 4372,\n",
       " '사무실': 4504,\n",
       " '말하자면': 3316,\n",
       " '편견': 8999,\n",
       " '절단': 7444,\n",
       " '와인': 6348,\n",
       " '포장지': 9049,\n",
       " '저가': 7322,\n",
       " '임의': 7082,\n",
       " '이탈': 6942,\n",
       " '높이': 2382,\n",
       " '한밤': 9333,\n",
       " '야간': 5826,\n",
       " '리셋': 3155,\n",
       " '아미': 5636,\n",
       " '유혹': 6699,\n",
       " 'wake': 1024,\n",
       " 'up': 916,\n",
       " 'word': 1046,\n",
       " '만듦새': 3279,\n",
       " '애니': 5797,\n",
       " '후면': 9731,\n",
       " '한대': 9323,\n",
       " '거란': 1331,\n",
       " '시멘트': 5364,\n",
       " '변기': 4059,\n",
       " '시공': 5336,\n",
       " '별짓': 4086,\n",
       " '월세': 6576,\n",
       " '철물': 8150,\n",
       " '원주': 6562,\n",
       " '다이소': 2479,\n",
       " '라텍스': 3006,\n",
       " '종이컵': 7683,\n",
       " '덩어리': 2681,\n",
       " '수세미': 5126,\n",
       " '건조': 1370,\n",
       " '여드름': 6027,\n",
       " '일회': 7067,\n",
       " '바늘': 3740,\n",
       " '알콜': 5761,\n",
       " '소독': 4979,\n",
       " '고름': 1521,\n",
       " '피지': 9186,\n",
       " ...}"
      ]
     },
     "execution_count": 339,
     "metadata": {},
     "output_type": "execute_result"
    }
   ],
   "source": [
    "cv.vocabulary_"
   ]
  },
  {
   "cell_type": "markdown",
   "metadata": {},
   "source": [
    "<br/><br/>\n",
    "### TF-IDF 적용\n",
    "- TF * IDF는 특정 문서 내에서 단어 빈도가 높을수록, 전체 문서들에는 그 단어를 포함한 문서가 적을수록 TF * IDF값이 높아지는 특징이 있다.\n",
    "- 이러한 특징을 이용해서 모든 문서에 나타나는 흔한 단어들을 걸러내며, 특정 단어가 가지는 중요도를 측정하는 데 사용된다.\n",
    "- 한마디로 TF * IDF 값은 특정 단어가 가지는 중요도!\n",
    "- TF(Term Frequency): 단어 빈도\n",
    "   - 해당 문서에서 단어가 나타나는 빈도수\n",
    "   - 문서의 길이가 길면 해당 단어의 실제 중요도와는 상관없이 단어의 빈도수는 증가될 확률이 높다.\n",
    "   - 위의 문제를 해결하기 위해 다음과 같이 표준화 -> (문서에서 단어가 나타나는 빈도수) / (모든 단어가 나타나는 빈도수)\n",
    "- IDF(Inverse Document Frequency): 역문헌 빈도\n",
    "   - 해당 단어의 일반적인 중요도를 나타내는 값\n",
    "   - log( 전체 문서의 수 / 해당 단어가 포함된 문서들의 수 )"
   ]
  },
  {
   "cell_type": "code",
   "execution_count": 340,
   "metadata": {
    "collapsed": true
   },
   "outputs": [],
   "source": [
    "from sklearn.feature_extraction.text import TfidfTransformer    # Tf * idf 구할 때"
   ]
  },
  {
   "cell_type": "code",
   "execution_count": 341,
   "metadata": {
    "scrolled": false
   },
   "outputs": [
    {
     "name": "stdout",
     "output_type": "stream",
     "text": [
      "미니언즈                 0.13642020917091804\n",
      "펌웨어                  0.13642020917091804\n",
      "wave                 0.12806463478391397\n",
      "엘지                   0.098222550603061\n",
      "반려견                  0.09404059250871988\n",
      "약관                   0.09276574223622427\n",
      "보호자                  0.08762317116794112\n",
      "셀리                   0.07414268329595018\n",
      "필립스                  0.07093850876887739\n",
      "int                  0.06839315818815991\n",
      "엘지유플러스               0.06839315818815991\n",
      "선풍기                  0.06740243935995471\n",
      "잠시                   0.06740243935995471\n",
      "새벽                   0.06548170040204067\n",
      "키보드                  0.06548170040204067\n",
      "lg유플러스               0.060662195423959245\n",
      "가방                   0.060662195423959245\n",
      "센서                   0.06002489203520395\n",
      "안함                   0.06002489203520395\n",
      "외출                   0.06002489203520395\n",
      "\n",
      "취약점                  0.13934445019108485\n",
      "핫스팟                  0.10063765847133906\n",
      "새벽                   0.08515494178344074\n",
      "펌웨어                  0.07741358343949158\n",
      "포터블                  0.07649694125420628\n",
      "팟캐스트                 0.06967222509554243\n",
      "사춘기                  0.0669348235974305\n",
      "사랑해요                 0.060641668881331455\n",
      "뉴스레터                 0.05737270594065472\n",
      "아시아나                 0.05737270594065472\n",
      "용품                   0.05737270594065472\n",
      "초롱                   0.05737270594065472\n",
      "카카오프렌즈               0.05737270594065472\n",
      "탕진                   0.05737270594065472\n",
      "판교                   0.05737270594065472\n",
      "led                  0.05418950840764411\n",
      "공지                   0.05418950840764411\n",
      "대회                   0.05418950840764411\n",
      "딸기                   0.05418950840764411\n",
      "라이브                  0.05418950840764411\n",
      "\n",
      "영성                   0.1911000195553379\n",
      "예제                   0.1883318130203656\n",
      "종교                   0.13183226911425594\n",
      "파이썬                  0.1313812634442948\n",
      "lte                  0.12197666705120873\n",
      "취약점                  0.11435312536050818\n",
      "명상                   0.11299908781221939\n",
      "스포티지                 0.11299908781221939\n",
      "예수                   0.11299908781221939\n",
      "청소                   0.09148250028840654\n",
      "하만카돈                 0.09148250028840654\n",
      "특허                   0.08474931585916454\n",
      "iptv                 0.07623541690700546\n",
      "외출                   0.07623541690700546\n",
      "벽걸이                  0.06861187521630491\n",
      "올레                   0.06861187521630491\n",
      "페이스                  0.06861187521630491\n",
      "김밥                   0.060988333525604364\n",
      "라즈베리                 0.060988333525604364\n",
      "마이크로                 0.060988333525604364\n",
      "\n",
      "티맵                   0.16998107136678486\n",
      "무드등                  0.164078620542455\n",
      "뮤직메이트                0.16344333785267778\n",
      "쿠폰                   0.1323214681793992\n",
      "flo                  0.10779971776036726\n",
      "tid                  0.09950743177880053\n",
      "해체                   0.09152826919749955\n",
      "실례                   0.09121514579723382\n",
      "팅커벨                  0.08997859836199146\n",
      "클라우드                 0.08499053568339243\n",
      "도미노                  0.08292285981566712\n",
      "대창                   0.0746305738341004\n",
      "피셔                   0.0746305738341004\n",
      "주거                   0.07410002218046356\n",
      "사용량                  0.07191506865517822\n",
      "어스                   0.07191506865517822\n",
      "인원                   0.07191506865517822\n",
      "lte                  0.06880716345328758\n",
      "김종국                  0.06633828785253369\n",
      "동형                   0.06537733514107111\n",
      "\n"
     ]
    }
   ],
   "source": [
    "tfidf_transformer=TfidfTransformer(smooth_idf=True,use_idf=True)        # Tf-idf 가중치를 적용할 수 있도록 변환시켜줌\n",
    "tf_idf_matrix = tfidf_transformer.fit_transform(word_count_vector)\n",
    "\n",
    "feature_names=cv.get_feature_names()\n",
    "\n",
    "dense = tf_idf_matrix.todense()\n",
    "\n",
    "for i in range(len(dense)):\n",
    "    doc = dense[i].tolist()[0]           # dense[i].tolist()는 2차원 list, 예를들면 shape: (1,814)\n",
    "    phrase_scores = [pair for pair in zip(range(0, len(doc)), doc) if pair[1] > 0]      # 0의 값이 아닌것만 모아서 만듦\n",
    "\n",
    "    sorted_phrase_scores = sorted(phrase_scores, key=lambda t: t[1], reverse=True) # sorted(phrase_scores, key=lambda t: t[1] * -1)라고 해도 됨\n",
    "    for phrase, score in [(feature_names[word_id], score) for (word_id, score) in sorted_phrase_scores][:20]:\n",
    "        print('{0: <20} {1}'.format(phrase, score))      # 단어와 단어의 tf-idf 값을 출력\n",
    "    print()\n",
    "    ##### 이 부분은 테스트를 위해서 #####\n",
    "    if i == 3:     \n",
    "        break\n",
    "    ###############################"
   ]
  },
  {
   "cell_type": "code",
   "execution_count": null,
   "metadata": {
    "collapsed": true
   },
   "outputs": [],
   "source": []
  },
  {
   "cell_type": "code",
   "execution_count": null,
   "metadata": {
    "collapsed": true
   },
   "outputs": [],
   "source": []
  }
 ],
 "metadata": {
  "kernelspec": {
   "display_name": "Python 3",
   "language": "python",
   "name": "python3"
  },
  "language_info": {
   "codemirror_mode": {
    "name": "ipython",
    "version": 3
   },
   "file_extension": ".py",
   "mimetype": "text/x-python",
   "name": "python",
   "nbconvert_exporter": "python",
   "pygments_lexer": "ipython3",
   "version": "3.6.7"
  }
 },
 "nbformat": 4,
 "nbformat_minor": 2
}
